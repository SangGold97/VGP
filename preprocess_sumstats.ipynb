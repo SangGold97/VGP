{
 "cells": [
  {
   "cell_type": "code",
   "execution_count": 1,
   "metadata": {},
   "outputs": [],
   "source": [
    "import os\n",
    "import pandas as pd\n",
    "import subprocess\n",
    "import warnings\n",
    "warnings.filterwarnings('ignore')"
   ]
  },
  {
   "cell_type": "code",
   "execution_count": 2,
   "metadata": {},
   "outputs": [
    {
     "data": {
      "text/html": [
       "<div>\n",
       "<style scoped>\n",
       "    .dataframe tbody tr th:only-of-type {\n",
       "        vertical-align: middle;\n",
       "    }\n",
       "\n",
       "    .dataframe tbody tr th {\n",
       "        vertical-align: top;\n",
       "    }\n",
       "\n",
       "    .dataframe thead th {\n",
       "        text-align: right;\n",
       "    }\n",
       "</style>\n",
       "<table border=\"1\" class=\"dataframe\">\n",
       "  <thead>\n",
       "    <tr style=\"text-align: right;\">\n",
       "      <th></th>\n",
       "      <th>CHR</th>\n",
       "      <th>POS</th>\n",
       "      <th>SNPID</th>\n",
       "    </tr>\n",
       "  </thead>\n",
       "  <tbody>\n",
       "    <tr>\n",
       "      <th>0</th>\n",
       "      <td>1</td>\n",
       "      <td>68082</td>\n",
       "      <td>rs367789441</td>\n",
       "    </tr>\n",
       "    <tr>\n",
       "      <th>1</th>\n",
       "      <td>1</td>\n",
       "      <td>77866</td>\n",
       "      <td>rs563593912</td>\n",
       "    </tr>\n",
       "    <tr>\n",
       "      <th>2</th>\n",
       "      <td>1</td>\n",
       "      <td>87409</td>\n",
       "      <td>rs139490478</td>\n",
       "    </tr>\n",
       "    <tr>\n",
       "      <th>3</th>\n",
       "      <td>1</td>\n",
       "      <td>87647</td>\n",
       "      <td>rs146836579</td>\n",
       "    </tr>\n",
       "    <tr>\n",
       "      <th>4</th>\n",
       "      <td>1</td>\n",
       "      <td>88144</td>\n",
       "      <td>rs541926283</td>\n",
       "    </tr>\n",
       "    <tr>\n",
       "      <th>...</th>\n",
       "      <td>...</td>\n",
       "      <td>...</td>\n",
       "      <td>...</td>\n",
       "    </tr>\n",
       "    <tr>\n",
       "      <th>1689632</th>\n",
       "      <td>22</td>\n",
       "      <td>50518815</td>\n",
       "      <td>rs11568172</td>\n",
       "    </tr>\n",
       "    <tr>\n",
       "      <th>1689633</th>\n",
       "      <td>22</td>\n",
       "      <td>50572406</td>\n",
       "      <td>rs3736686</td>\n",
       "    </tr>\n",
       "    <tr>\n",
       "      <th>1689634</th>\n",
       "      <td>22</td>\n",
       "      <td>50922470</td>\n",
       "      <td>rs2236032</td>\n",
       "    </tr>\n",
       "    <tr>\n",
       "      <th>1689635</th>\n",
       "      <td>22</td>\n",
       "      <td>50922771</td>\n",
       "      <td>rs35576574</td>\n",
       "    </tr>\n",
       "    <tr>\n",
       "      <th>1689636</th>\n",
       "      <td>22</td>\n",
       "      <td>51195728</td>\n",
       "      <td>rs5771007</td>\n",
       "    </tr>\n",
       "  </tbody>\n",
       "</table>\n",
       "<p>1689637 rows × 3 columns</p>\n",
       "</div>"
      ],
      "text/plain": [
       "         CHR       POS        SNPID\n",
       "0          1     68082  rs367789441\n",
       "1          1     77866  rs563593912\n",
       "2          1     87409  rs139490478\n",
       "3          1     87647  rs146836579\n",
       "4          1     88144  rs541926283\n",
       "...      ...       ...          ...\n",
       "1689632   22  50518815   rs11568172\n",
       "1689633   22  50572406    rs3736686\n",
       "1689634   22  50922470    rs2236032\n",
       "1689635   22  50922771   rs35576574\n",
       "1689636   22  51195728    rs5771007\n",
       "\n",
       "[1689637 rows x 3 columns]"
      ]
     },
     "execution_count": 2,
     "metadata": {},
     "output_type": "execute_result"
    }
   ],
   "source": [
    "hapmap3 = pd.read_table('hapmap3.all.txt') # in GRCh37\n",
    "hapmap3"
   ]
  },
  {
   "cell_type": "code",
   "execution_count": 3,
   "metadata": {},
   "outputs": [
    {
     "data": {
      "text/html": [
       "<div>\n",
       "<style scoped>\n",
       "    .dataframe tbody tr th:only-of-type {\n",
       "        vertical-align: middle;\n",
       "    }\n",
       "\n",
       "    .dataframe tbody tr th {\n",
       "        vertical-align: top;\n",
       "    }\n",
       "\n",
       "    .dataframe thead th {\n",
       "        text-align: right;\n",
       "    }\n",
       "</style>\n",
       "<table border=\"1\" class=\"dataframe\">\n",
       "  <thead>\n",
       "    <tr style=\"text-align: right;\">\n",
       "      <th></th>\n",
       "      <th>CHR</th>\n",
       "      <th>SNP</th>\n",
       "      <th>No</th>\n",
       "      <th>POS</th>\n",
       "      <th>REF</th>\n",
       "      <th>ALT</th>\n",
       "    </tr>\n",
       "  </thead>\n",
       "  <tbody>\n",
       "    <tr>\n",
       "      <th>0</th>\n",
       "      <td>1</td>\n",
       "      <td>rs201500819</td>\n",
       "      <td>0</td>\n",
       "      <td>769828</td>\n",
       "      <td>C</td>\n",
       "      <td>G</td>\n",
       "    </tr>\n",
       "    <tr>\n",
       "      <th>1</th>\n",
       "      <td>1</td>\n",
       "      <td>rs74879860</td>\n",
       "      <td>0</td>\n",
       "      <td>771265</td>\n",
       "      <td>C</td>\n",
       "      <td>A</td>\n",
       "    </tr>\n",
       "    <tr>\n",
       "      <th>2</th>\n",
       "      <td>1</td>\n",
       "      <td>rs74512038</td>\n",
       "      <td>0</td>\n",
       "      <td>778597</td>\n",
       "      <td>T</td>\n",
       "      <td>C</td>\n",
       "    </tr>\n",
       "    <tr>\n",
       "      <th>3</th>\n",
       "      <td>1</td>\n",
       "      <td>rs74707816</td>\n",
       "      <td>0</td>\n",
       "      <td>779059</td>\n",
       "      <td>A</td>\n",
       "      <td>G</td>\n",
       "    </tr>\n",
       "    <tr>\n",
       "      <th>4</th>\n",
       "      <td>1</td>\n",
       "      <td>rs3121393</td>\n",
       "      <td>0</td>\n",
       "      <td>784860</td>\n",
       "      <td>T</td>\n",
       "      <td>C</td>\n",
       "    </tr>\n",
       "    <tr>\n",
       "      <th>...</th>\n",
       "      <td>...</td>\n",
       "      <td>...</td>\n",
       "      <td>...</td>\n",
       "      <td>...</td>\n",
       "      <td>...</td>\n",
       "      <td>...</td>\n",
       "    </tr>\n",
       "    <tr>\n",
       "      <th>5605061</th>\n",
       "      <td>22</td>\n",
       "      <td>rs9616978</td>\n",
       "      <td>0</td>\n",
       "      <td>50781891</td>\n",
       "      <td>G</td>\n",
       "      <td>C</td>\n",
       "    </tr>\n",
       "    <tr>\n",
       "      <th>5605062</th>\n",
       "      <td>22</td>\n",
       "      <td>rs369304721</td>\n",
       "      <td>0</td>\n",
       "      <td>50782762</td>\n",
       "      <td>A</td>\n",
       "      <td>G</td>\n",
       "    </tr>\n",
       "    <tr>\n",
       "      <th>5605063</th>\n",
       "      <td>22</td>\n",
       "      <td>rs115055839</td>\n",
       "      <td>0</td>\n",
       "      <td>50783303</td>\n",
       "      <td>C</td>\n",
       "      <td>T</td>\n",
       "    </tr>\n",
       "    <tr>\n",
       "      <th>5605064</th>\n",
       "      <td>22</td>\n",
       "      <td>rs372062323</td>\n",
       "      <td>0</td>\n",
       "      <td>50783547</td>\n",
       "      <td>A</td>\n",
       "      <td>G</td>\n",
       "    </tr>\n",
       "    <tr>\n",
       "      <th>5605065</th>\n",
       "      <td>22</td>\n",
       "      <td>rs7289043</td>\n",
       "      <td>0</td>\n",
       "      <td>50789831</td>\n",
       "      <td>G</td>\n",
       "      <td>A</td>\n",
       "    </tr>\n",
       "  </tbody>\n",
       "</table>\n",
       "<p>5605066 rows × 6 columns</p>\n",
       "</div>"
      ],
      "text/plain": [
       "         CHR          SNP  No       POS REF ALT\n",
       "0          1  rs201500819   0    769828   C   G\n",
       "1          1   rs74879860   0    771265   C   A\n",
       "2          1   rs74512038   0    778597   T   C\n",
       "3          1   rs74707816   0    779059   A   G\n",
       "4          1    rs3121393   0    784860   T   C\n",
       "...      ...          ...  ..       ...  ..  ..\n",
       "5605061   22    rs9616978   0  50781891   G   C\n",
       "5605062   22  rs369304721   0  50782762   A   G\n",
       "5605063   22  rs115055839   0  50783303   C   T\n",
       "5605064   22  rs372062323   0  50783547   A   G\n",
       "5605065   22    rs7289043   0  50789831   G   A\n",
       "\n",
       "[5605066 rows x 6 columns]"
      ]
     },
     "execution_count": 3,
     "metadata": {},
     "output_type": "execute_result"
    }
   ],
   "source": [
    "bim_file = pd.read_table('./target_data/target.data.impute.bim', \n",
    "                         names=['CHR', 'SNP', 'No', 'POS', 'REF', 'ALT'])\n",
    "bim_file"
   ]
  },
  {
   "cell_type": "markdown",
   "metadata": {},
   "source": [
    "# Define functions:"
   ]
  },
  {
   "cell_type": "code",
   "execution_count": 3,
   "metadata": {},
   "outputs": [],
   "source": [
    "def preprocess_gwas_PRSice2(path_gwas:str,\n",
    "                             output_folder:str):\n",
    "    gwas = pd.read_table(path_gwas)[['CHR', 'SNPID', 'Allele2', 'Allele1', 'BETA', 'p.value']]\n",
    "    gwas = gwas[gwas['CHR'].isin(range(1, 23))]\n",
    "    gwas = gwas[gwas['SNPID'].str.startswith('rs')]\n",
    "    gwas.columns = ['CHR', 'SNP', 'A1', 'A2', 'BETA', 'P']\n",
    "    gwas.to_csv(os.path.join(output_folder, 'gwas.PRSice.txt'), index=False, sep='\\t')"
   ]
  },
  {
   "cell_type": "code",
   "execution_count": null,
   "metadata": {},
   "outputs": [],
   "source": [
    "def preprocess_gwas_BBJ(hapmap3: pd.DataFrame,\n",
    "                        path_gwas:str,\n",
    "                        output_folder:str,\n",
    "                        n_gwas:int,\n",
    "                        prsice2:bool):\n",
    "    \"\"\"\n",
    "    Preprocess GWAS summary statistics for BBJ.\n",
    "    Args:\n",
    "        hapmap3 (pd.DataFrame): HapMap3 data with columns ['CHR', 'POS', 'SNPID'].\n",
    "        path_gwas (str): Path to the GWAS summary statistics file.\n",
    "        output_folder (str): Folder to save the processed files.\n",
    "        n_gwas (int): Effective sample size of the GWAS.\n",
    "        prsice2 (bool): Whether to preprocess for PRSice2.\n",
    "    \n",
    "    Returns:\n",
    "        None: Saves processed files in the specified output folder.\n",
    "    \"\"\"\n",
    "\n",
    "    gwas = pd.read_table(path_gwas)[['CHR', 'POS', 'Allele2', 'Allele1', 'BETA', 'SE']]\n",
    "    gwas = pd.merge(hapmap3, gwas, how='inner', on=['CHR', 'POS'])\n",
    "    gwas = gwas[(gwas['Allele1'].str.len() == 1) & (gwas['Allele2'].str.len() == 1)]\n",
    "    # only keep SNPID startwith rs\n",
    "    gwas = gwas[gwas['SNPID'].str.startswith('rs')].drop_duplicates(subset='SNPID')\n",
    "\n",
    "    # gwas for PRS-CS and PRS-CSx:\n",
    "    gwas_PRS_CS = gwas[['SNPID', 'Allele2', 'Allele1', 'BETA', 'SE']]\n",
    "    gwas_PRS_CS.columns = ['SNP', 'A1', 'A2', 'BETA', 'SE']\n",
    "    gwas_PRS_CS.to_csv(os.path.join(output_folder, 'gwas.PRSCS.txt'), index=False, sep='\\t')\n",
    "\n",
    "    # gwas for LDpred2:\n",
    "    gwas_LDpred2 = gwas[['CHR', 'POS', 'SNPID', 'Allele2', 'Allele1', 'BETA', 'SE']]\n",
    "    gwas_LDpred2.columns = ['chr', 'pos', 'rsid', 'a1', 'a0', 'beta', 'beta_se']\n",
    "    gwas_LDpred2['n_eff'] = n_gwas\n",
    "    gwas_LDpred2.to_csv(os.path.join(output_folder, 'gwas.LDpred2.txt'), index=False, sep='\\t')\n",
    "\n",
    "    # gwas for PRSice2:\n",
    "    if prsice2:\n",
    "        preprocess_gwas_PRSice2(path_gwas, output_folder)"
   ]
  },
  {
   "cell_type": "code",
   "execution_count": null,
   "metadata": {},
   "outputs": [],
   "source": [
    "# output: chr\tpos\tSNP\tA1\tA2\tFreq1.Hapmap\tb\tse\tp\tN\n",
    "def process_gwas_shaPRS(hapmap3: pd.DataFrame,\n",
    "                        path_gwas:str,\n",
    "                        output_folder:str,\n",
    "                        n_gwas:int,\n",
    "                        columns=['CHR', 'POS', 'Allele2', 'Allele1', 'BETA', 'SE', 'p.value']):\n",
    "    \"\"\"\n",
    "    Preprocess GWAS summary statistics for shaPRS.\n",
    "    Args:\n",
    "        hapmap3 (pd.DataFrame): HapMap3 data with columns ['CHR', 'POS', 'SNPID'].\n",
    "        path_gwas (str): Path to the GWAS summary statistics file.\n",
    "        output_folder (str): Folder to save the processed files.\n",
    "        n_gwas (int): Effective sample size of the GWAS.\n",
    "        columns (list): Columns to select from the GWAS data.\n",
    "    Returns:\n",
    "        None: Saves processed files in the specified output folder.\n",
    "    \"\"\"\n",
    "    gwas = pd.read_table(path_gwas)[columns]\n",
    "    gwas.columns = ['CHR', 'POS', 'A1', 'A2', 'BETA', 'SE', 'P']\n",
    "    gwas = pd.merge(hapmap3, gwas, how='inner', on=['CHR', 'POS'])\n",
    "    gwas = gwas[(gwas['A1'].str.len() == 1) & (gwas['A2'].str.len() == 1)]\n",
    "    # only keep SNPID startwith rs\n",
    "    gwas = gwas[gwas['SNPID'].str.startswith('rs')].drop_duplicates(subset='SNPID')\n",
    "\n",
    "    gwas['Freq1.Hapmap'] = 'X'\n",
    "    gwas['N'] = n_gwas\n",
    "    gwas.columns = ['chr', 'pos', 'SNP', 'A1', 'A2', 'b', 'se', 'p', 'Freq1.Hapmap', 'N']\n",
    "    gwas[['chr', 'pos', 'SNP', 'A1', 'A2', 'Freq1.Hapmap', 'b', 'se', 'p', 'N']].to_csv(os.path.join(output_folder, 'gwas.shaPRS.txt'), index=False, sep='\\t')"
   ]
  },
  {
   "cell_type": "markdown",
   "metadata": {},
   "source": [
    "# 1. Breast Cancer"
   ]
  },
  {
   "cell_type": "markdown",
   "metadata": {},
   "source": [
    "## a. EAS (BBJ)"
   ]
  },
  {
   "cell_type": "code",
   "execution_count": null,
   "metadata": {},
   "outputs": [],
   "source": [
    "gwas_path_breast_cancer = 'sum_stats_data/breast_cancer/hum0197.v3.BBJ.BC.v1/GWASsummary_BrC_Japanese_SakaueKanai2020.auto.txt'\n",
    "output_folder_breast_cancer = 'sum_stats_data/breast_cancer/hum0197.v3.BBJ.BC.v1/'\n",
    "n_gwas_breast_cancer = 79550"
   ]
  },
  {
   "cell_type": "code",
   "execution_count": null,
   "metadata": {},
   "outputs": [],
   "source": [
    "preprocess_gwas_BBJ(hapmap3=hapmap3,\n",
    "                    path_gwas=gwas_path_breast_cancer,\n",
    "                    output_folder=output_folder_breast_cancer,\n",
    "                    n_gwas=n_gwas_breast_cancer,\n",
    "                    prsice2=True)"
   ]
  },
  {
   "cell_type": "code",
   "execution_count": null,
   "metadata": {},
   "outputs": [],
   "source": [
    "process_gwas_shaPRS(hapmap3=hapmap3,\n",
    "                    path_gwas=gwas_path_breast_cancer,\n",
    "                    output_folder=output_folder_breast_cancer,\n",
    "                    n_gwas=n_gwas_breast_cancer)"
   ]
  },
  {
   "cell_type": "markdown",
   "metadata": {},
   "source": [
    "## b. EUR"
   ]
  },
  {
   "cell_type": "code",
   "execution_count": null,
   "metadata": {},
   "outputs": [],
   "source": [
    "gwas_path_breast_cancer = 'sum_stats_data/breast_cancer/hum0197.v3.EUR.BC.v1/GWASsummary_BrC_EUR_SakaueKanai2020.auto.txt'\n",
    "output_folder_breast_cancer = 'sum_stats_data/breast_cancer/hum0197.v3.EUR.BC.v1/'\n",
    "n_gwas_breast_cancer = 257730"
   ]
  },
  {
   "cell_type": "code",
   "execution_count": null,
   "metadata": {},
   "outputs": [],
   "source": [
    "preprocess_gwas_BBJ(hapmap3=hapmap3,\n",
    "                    path_gwas=gwas_path_breast_cancer,\n",
    "                    output_folder=output_folder_breast_cancer,\n",
    "                    n_gwas=n_gwas_breast_cancer,\n",
    "                    prsice2=False)"
   ]
  },
  {
   "cell_type": "code",
   "execution_count": null,
   "metadata": {},
   "outputs": [],
   "source": [
    "process_gwas_shaPRS(hapmap3=hapmap3,\n",
    "                    path_gwas=gwas_path_breast_cancer,\n",
    "                    output_folder=output_folder_breast_cancer,\n",
    "                    n_gwas=n_gwas_breast_cancer)"
   ]
  },
  {
   "cell_type": "markdown",
   "metadata": {},
   "source": [
    "# 2. Colorectal Cancer"
   ]
  },
  {
   "cell_type": "markdown",
   "metadata": {},
   "source": [
    "## a. EAS (BBJ)"
   ]
  },
  {
   "cell_type": "code",
   "execution_count": null,
   "metadata": {},
   "outputs": [],
   "source": [
    "gwas_path_colorectal_cancer = 'sum_stats_data/colorectal_cancer/hum0197.v3.BBJ.CC.v1/GWASsummary_CRC_Japanese_SakaueKanai2020.auto.txt'\n",
    "output_folder_colorectal_cancer = 'sum_stats_data/colorectal_cancer/hum0197.v3.BBJ.CC.v1/'\n",
    "n_gwas_colorectal_cancer = 167691"
   ]
  },
  {
   "cell_type": "code",
   "execution_count": null,
   "metadata": {},
   "outputs": [],
   "source": [
    "preprocess_gwas_BBJ(hapmap3=hapmap3,\n",
    "                    path_gwas=gwas_path_colorectal_cancer,\n",
    "                    output_folder=output_folder_colorectal_cancer,\n",
    "                    n_gwas=n_gwas_colorectal_cancer,\n",
    "                    prsice2=True)"
   ]
  },
  {
   "cell_type": "code",
   "execution_count": null,
   "metadata": {},
   "outputs": [],
   "source": [
    "process_gwas_shaPRS(hapmap3=hapmap3,\n",
    "                    path_gwas=gwas_path_colorectal_cancer,\n",
    "                    output_folder=output_folder_colorectal_cancer,\n",
    "                    n_gwas=n_gwas_colorectal_cancer)"
   ]
  },
  {
   "cell_type": "markdown",
   "metadata": {},
   "source": [
    "## b. EUR"
   ]
  },
  {
   "cell_type": "code",
   "execution_count": null,
   "metadata": {},
   "outputs": [],
   "source": [
    "gwas_path_colorectal_cancer = 'sum_stats_data/colorectal_cancer/hum0197.v3.EUR.CC.v1/GWASsummary_CRC_EUR_SakaueKanai2020.auto.txt'\n",
    "output_folder_colorectal_cancer = 'sum_stats_data/colorectal_cancer/hum0197.v3.EUR.CC.v1/'\n",
    "n_gwas_colorectal_cancer = 470002"
   ]
  },
  {
   "cell_type": "code",
   "execution_count": null,
   "metadata": {},
   "outputs": [],
   "source": [
    "preprocess_gwas_BBJ(hapmap3=hapmap3,\n",
    "                    path_gwas=gwas_path_colorectal_cancer,\n",
    "                    output_folder=output_folder_colorectal_cancer,\n",
    "                    n_gwas=n_gwas_colorectal_cancer,\n",
    "                    prsice2=False)"
   ]
  },
  {
   "cell_type": "code",
   "execution_count": null,
   "metadata": {},
   "outputs": [],
   "source": [
    "process_gwas_shaPRS(hapmap3=hapmap3,\n",
    "                    path_gwas=gwas_path_colorectal_cancer,\n",
    "                    output_folder=output_folder_colorectal_cancer,\n",
    "                    n_gwas=n_gwas_colorectal_cancer)"
   ]
  },
  {
   "cell_type": "markdown",
   "metadata": {},
   "source": [
    "# 3. Gastric Cancer"
   ]
  },
  {
   "cell_type": "markdown",
   "metadata": {},
   "source": [
    "## a. EAS (BBJ)"
   ]
  },
  {
   "cell_type": "code",
   "execution_count": null,
   "metadata": {},
   "outputs": [],
   "source": [
    "gwas_path_gastric_cancer = 'sum_stats_data/gastric_cancer/hum0197.v3.BBJ.GC.v1/GWASsummary_GaC_Japanese_SakaueKanai2020.auto.txt'\n",
    "output_folder_gastric_cancer = 'sum_stats_data/gastric_cancer/hum0197.v3.BBJ.GC.v1/'\n",
    "n_gwas_gastric_cancer = 167122\n",
    "\n",
    "preprocess_gwas_BBJ(hapmap3=hapmap3,\n",
    "                    path_gwas=gwas_path_gastric_cancer,\n",
    "                    output_folder=output_folder_gastric_cancer,\n",
    "                    n_gwas=n_gwas_gastric_cancer,\n",
    "                    prsice2=True)\n",
    "\n",
    "process_gwas_shaPRS(hapmap3=hapmap3,\n",
    "                    path_gwas=gwas_path_gastric_cancer,\n",
    "                    output_folder=output_folder_gastric_cancer,\n",
    "                    n_gwas=n_gwas_gastric_cancer)"
   ]
  },
  {
   "cell_type": "markdown",
   "metadata": {},
   "source": [
    "## b. EUR"
   ]
  },
  {
   "cell_type": "code",
   "execution_count": null,
   "metadata": {},
   "outputs": [],
   "source": [
    "gwas_path_gastric_cancer = 'sum_stats_data/gastric_cancer/hum0197.v3.EUR.GC.v1/GWASsummary_GaC_EUR_SakaueKanai2020.auto.txt'\n",
    "output_folder_gastric_cancer = 'sum_stats_data/gastric_cancer//hum0197.v3.EUR.GC.v1/'\n",
    "n_gwas_gastric_cancer = 476116\n",
    "\n",
    "preprocess_gwas_BBJ(hapmap3=hapmap3,\n",
    "                    path_gwas=gwas_path_gastric_cancer,\n",
    "                    output_folder=output_folder_gastric_cancer,\n",
    "                    n_gwas=n_gwas_gastric_cancer,\n",
    "                    prsice2=False)"
   ]
  },
  {
   "cell_type": "code",
   "execution_count": null,
   "metadata": {},
   "outputs": [],
   "source": [
    "process_gwas_shaPRS(hapmap3=hapmap3,\n",
    "                    path_gwas=gwas_path_gastric_cancer,\n",
    "                    output_folder=output_folder_gastric_cancer,\n",
    "                    n_gwas=n_gwas_gastric_cancer)"
   ]
  },
  {
   "cell_type": "markdown",
   "metadata": {},
   "source": [
    "# 4. PD (Parkinson Disease)"
   ]
  },
  {
   "cell_type": "markdown",
   "metadata": {},
   "source": [
    "## a. EAS (BBJ)"
   ]
  },
  {
   "cell_type": "code",
   "execution_count": null,
   "metadata": {},
   "outputs": [],
   "source": [
    "# n_gwas = 6050: sumstats from GCST90278092\n",
    "gwas = pd.read_table('sum_stats_data/pd/gwas.catalog.EAS.GCST90278092/GCST90278092.h.tsv')\n",
    "gwas = gwas[['chromosome', 'base_pair_location', 'rsid', 'effect_allele', 'other_allele', 'beta', 'standard_error', 'p_value']]\n",
    "gwas.columns = ['CHR', 'POS', 'SNPID', 'A1', 'A2', 'BETA', 'SE', 'P']\n",
    "gwas = gwas[gwas['CHR'].isin(range(1, 23))]\n",
    "gwas = gwas[(gwas['A1'].str.len() == 1) & (gwas['A2'].str.len() == 1)]\n",
    "gwas = gwas[gwas['SNPID'].str.startswith('rs')].drop_duplicates(subset='SNPID')\n",
    "\n",
    "gwas_PRSice = gwas[['CHR', 'POS', 'SNPID', 'A1', 'A2', 'BETA', 'P']]\n",
    "gwas_PRSice.columns = ['CHR', 'POS', 'SNP', 'A1', 'A2', 'BETA', 'P']\n",
    "gwas_PRSice.to_csv(os.path.join('sum_stats_data/pd/gwas.catalog.EAS.GCST90278092/', 'gwas.PRSice.txt'), index=False, sep='\\t')\n",
    "\n",
    "gwas = pd.merge(hapmap3, gwas[['SNPID', 'A1', 'A2', 'BETA', 'SE']], on=['SNPID'])\n",
    "gwas_LDpred2 = gwas[['CHR', 'POS', 'SNPID', 'A1', 'A2', 'BETA', 'SE']]\n",
    "gwas_LDpred2['n_eff'] = 6050\n",
    "gwas_LDpred2.columns = ['chr', 'pos', 'rsid', 'a1', 'a0', 'beta', 'beta_se', 'n_eff']\n",
    "\n",
    "gwas_PRS_CS = gwas[['SNPID', 'A1', 'A2', 'BETA', 'SE']]\n",
    "gwas_PRS_CS.columns = ['SNP', 'A1', 'A2', 'BETA', 'SE']\n",
    "\n",
    "# save sumstats:\n",
    "gwas_LDpred2.to_csv(os.path.join('sum_stats_data/pd/gwas.catalog.EAS.GCST90278092/', 'gwas.LDpred2.txt'), index=False, sep='\\t')\n",
    "gwas_PRS_CS.to_csv(os.path.join('sum_stats_data/pd/gwas.catalog.EAS.GCST90278092/', 'gwas.PRSCS.txt'), index=False, sep='\\t')"
   ]
  },
  {
   "cell_type": "code",
   "execution_count": null,
   "metadata": {},
   "outputs": [],
   "source": [
    "# shaPRS:\n",
    "gwas = pd.read_table('sum_stats_data/pd/gwas.catalog.EAS.GCST90278092/GCST90278092.h.tsv')\n",
    "gwas = gwas[['chromosome', 'rsid', 'effect_allele', 'other_allele', 'beta', 'standard_error', 'p_value']]\n",
    "gwas.columns = ['CHR', 'SNPID', 'A1', 'A2', 'BETA', 'SE', 'P']\n",
    "gwas = pd.merge(hapmap3, gwas, how='inner', on=['CHR', 'SNPID'])\n",
    "gwas = gwas[(gwas['A1'].str.len() == 1) & (gwas['A2'].str.len() == 1)]\n",
    "# only keep SNPID startwith rs\n",
    "gwas = gwas[gwas['SNPID'].str.startswith('rs')].drop_duplicates(subset='SNPID')\n",
    "\n",
    "gwas['Freq1.Hapmap'] = 'X'\n",
    "gwas['N'] = 6050\n",
    "gwas.columns = ['chr', 'pos', 'SNP', 'A1', 'A2', 'b', 'se', 'p', 'Freq1.Hapmap', 'N']\n",
    "gwas[['chr', 'pos', 'SNP', 'A1', 'A2', 'Freq1.Hapmap', 'b', 'se', 'p', 'N']].to_csv(os.path.join('sum_stats_data/pd/gwas.catalog.EAS.GCST90278092/', \n",
    "                                                                                                 'gwas.shaPRS.txt'), index=False, sep='\\t')"
   ]
  },
  {
   "cell_type": "markdown",
   "metadata": {},
   "source": [
    "## b. EUR"
   ]
  },
  {
   "cell_type": "code",
   "execution_count": null,
   "metadata": {},
   "outputs": [],
   "source": [
    "gwas_path_pd = 'sum_stats_data/pd/hum0197.v3.EUR.PD.v1/GWASsummary_Parkinsons_Disease_EUR_SakaueKanai2020.auto.txt'\n",
    "output_folder_pd = 'sum_stats_data/pd/hum0197.v3.EUR.PD.v1/'\n",
    "n_gwas_pd = 480018"
   ]
  },
  {
   "cell_type": "code",
   "execution_count": null,
   "metadata": {},
   "outputs": [],
   "source": [
    "# n_gwas = 480018\n",
    "preprocess_gwas_BBJ(hapmap3=hapmap3,\n",
    "                    path_gwas=gwas_path_pd,\n",
    "                    output_folder=output_folder_pd,\n",
    "                    n_gwas=n_gwas_pd,\n",
    "                    prsice2=False) "
   ]
  },
  {
   "cell_type": "code",
   "execution_count": null,
   "metadata": {},
   "outputs": [],
   "source": [
    "process_gwas_shaPRS(hapmap3=hapmap3,\n",
    "                    path_gwas=gwas_path_pd,\n",
    "                    output_folder=output_folder_pd,\n",
    "                    n_gwas=n_gwas_pd)"
   ]
  },
  {
   "cell_type": "markdown",
   "metadata": {},
   "source": [
    "# 5. CKD (Chronic Kidney Disease)"
   ]
  },
  {
   "cell_type": "markdown",
   "metadata": {},
   "source": [
    "## a. EAS (BBJ)"
   ]
  },
  {
   "cell_type": "code",
   "execution_count": null,
   "metadata": {},
   "outputs": [],
   "source": [
    "gwas_path_ckd = 'sum_stats_data/ckd/hum0197.v3.BBJ.CRF.v1/GWASsummary_Chronic_Renal_Failure_Japanese_SakaueKanai2020.auto.txt'\n",
    "output_folder_ckd = 'sum_stats_data/ckd/hum0197.v3.BBJ.CRF.v1/'\n",
    "n_gwas_ckd = 176462"
   ]
  },
  {
   "cell_type": "code",
   "execution_count": null,
   "metadata": {},
   "outputs": [],
   "source": [
    "# n_gwas = 176462\n",
    "preprocess_gwas_BBJ(hapmap3=hapmap3,\n",
    "                    path_gwas=gwas_path_ckd,\n",
    "                    output_folder=output_folder_ckd,\n",
    "                    n_gwas=n_gwas_ckd,\n",
    "                    prsice2=True)"
   ]
  },
  {
   "cell_type": "code",
   "execution_count": null,
   "metadata": {},
   "outputs": [],
   "source": [
    "process_gwas_shaPRS(hapmap3=hapmap3,\n",
    "                    path_gwas=gwas_path_ckd,\n",
    "                    output_folder=output_folder_ckd,\n",
    "                    n_gwas=n_gwas_ckd)"
   ]
  },
  {
   "cell_type": "markdown",
   "metadata": {},
   "source": [
    "## b. EUR"
   ]
  },
  {
   "cell_type": "code",
   "execution_count": null,
   "metadata": {},
   "outputs": [],
   "source": [
    "gwas_path_ckd = 'sum_stats_data/ckd/hum0197.v3.EUR.CRF.v1/GWASsummary_Chronic_Renal_Failure_EUR_SakaueKanai2020.auto.txt'\n",
    "output_folder_ckd = 'sum_stats_data/ckd/hum0197.v3.EUR.CRF.v1/'\n",
    "n_gwas_ckd = 482858"
   ]
  },
  {
   "cell_type": "code",
   "execution_count": null,
   "metadata": {},
   "outputs": [],
   "source": [
    "# n_gwas = 482858\n",
    "preprocess_gwas_BBJ(hapmap3=hapmap3,\n",
    "                    path_gwas=gwas_path_ckd,\n",
    "                    output_folder=output_folder_ckd,\n",
    "                    n_gwas=n_gwas_ckd,\n",
    "                    prsice2=False)"
   ]
  },
  {
   "cell_type": "code",
   "execution_count": null,
   "metadata": {},
   "outputs": [],
   "source": [
    "process_gwas_shaPRS(hapmap3=hapmap3,\n",
    "                    path_gwas=gwas_path_ckd,\n",
    "                    output_folder=output_folder_ckd,\n",
    "                    n_gwas=n_gwas_ckd)"
   ]
  },
  {
   "cell_type": "markdown",
   "metadata": {},
   "source": [
    "# 6. Osteoporosis"
   ]
  },
  {
   "cell_type": "markdown",
   "metadata": {},
   "source": [
    "## a. EAS (BBJ)"
   ]
  },
  {
   "cell_type": "code",
   "execution_count": null,
   "metadata": {},
   "outputs": [],
   "source": [
    "gwas_path_osteoporosis = 'sum_stats_data/osteoporosis/hum0197.v3.BBJ.OP.v1/GWASsummary_Osteoporosis_Japanese_SakaueKanai2020.auto.txt'\n",
    "output_folder_osteoporosis = 'sum_stats_data/osteoporosis/hum0197.v3.BBJ.OP.v1/'\n",
    "n_gwas_osteoporosis = 178726"
   ]
  },
  {
   "cell_type": "code",
   "execution_count": null,
   "metadata": {},
   "outputs": [],
   "source": [
    "# n_gwas = 178726\n",
    "preprocess_gwas_BBJ(hapmap3=hapmap3,\n",
    "                    path_gwas=gwas_path_osteoporosis,\n",
    "                    output_folder=output_folder_osteoporosis,\n",
    "                    n_gwas=n_gwas_osteoporosis,\n",
    "                    prsice2=True)"
   ]
  },
  {
   "cell_type": "code",
   "execution_count": null,
   "metadata": {},
   "outputs": [],
   "source": [
    "process_gwas_shaPRS(hapmap3=hapmap3,\n",
    "                    path_gwas=gwas_path_osteoporosis,\n",
    "                    output_folder=output_folder_osteoporosis,\n",
    "                    n_gwas=n_gwas_osteoporosis)"
   ]
  },
  {
   "cell_type": "markdown",
   "metadata": {},
   "source": [
    "## b. EUR"
   ]
  },
  {
   "cell_type": "code",
   "execution_count": null,
   "metadata": {},
   "outputs": [],
   "source": [
    "# n_gwas = 456348\n",
    "gwas = pd.read_table('sum_stats_data/osteoporosis/gwas.catalog.EUR.GCST90044600/34737426-GCST90044600-EFO_0003882.h.tsv')\n",
    "gwas = gwas[['hm_chrom', 'hm_rsid', 'hm_effect_allele', 'hm_other_allele', 'hm_beta', 'standard_error']]\n",
    "gwas.columns = ['CHR', 'SNPID', 'A1', 'A2', 'BETA', 'SE']\n",
    "gwas = pd.merge(hapmap3, gwas)\n",
    "gwas = gwas[(gwas['A1'].str.len() == 1) & (gwas['A2'].str.len() == 1)]\n",
    "# only keep SNPID startwith rs\n",
    "gwas = gwas[gwas['SNPID'].str.startswith('rs')].drop_duplicates(subset='SNPID')\n",
    "\n",
    "gwas_PRS_CSx = gwas[['SNPID', 'A1', 'A2', 'BETA', 'SE']]\n",
    "gwas_PRS_CSx.columns = ['SNP', 'A1', 'A2', 'BETA', 'SE']\n",
    "\n",
    "# save sumstats:\n",
    "gwas_PRS_CSx.to_csv(os.path.join('sum_stats_data/osteoporosis/gwas.catalog.EUR.GCST90044600/', 'gwas.PRSCS.txt'), index=False, sep='\\t')"
   ]
  },
  {
   "cell_type": "code",
   "execution_count": null,
   "metadata": {},
   "outputs": [],
   "source": [
    "# shaPRS:\n",
    "gwas = pd.read_table('sum_stats_data/osteoporosis/gwas.catalog.EUR.GCST90044600/34737426-GCST90044600-EFO_0003882.h.tsv')\n",
    "gwas = gwas[['hm_chrom', 'hm_rsid', 'hm_effect_allele', 'hm_other_allele', 'hm_beta', 'standard_error', 'p_value']]\n",
    "gwas.columns = ['CHR', 'SNPID', 'A1', 'A2', 'BETA', 'SE', 'P']\n",
    "gwas = pd.merge(hapmap3, gwas, how='inner', on=['CHR', 'SNPID'])\n",
    "gwas = gwas[(gwas['A1'].str.len() == 1) & (gwas['A2'].str.len() == 1)]\n",
    "# only keep SNPID startwith rs\n",
    "gwas = gwas[gwas['SNPID'].str.startswith('rs')].drop_duplicates(subset='SNPID')\n",
    "\n",
    "gwas['Freq1.Hapmap'] = 'X'\n",
    "gwas['N'] = 456348\n",
    "gwas.columns = ['chr', 'pos', 'SNP', 'A1', 'A2', 'b', 'se', 'p', 'Freq1.Hapmap', 'N']\n",
    "gwas[['chr', 'pos', 'SNP', 'A1', 'A2', 'Freq1.Hapmap', 'b', 'se', 'p', 'N']].to_csv(os.path.join('sum_stats_data/osteoporosis/gwas.catalog.EUR.GCST90044600/', \n",
    "                                                                                                 'gwas.shaPRS.txt'), index=False, sep='\\t')"
   ]
  },
  {
   "cell_type": "markdown",
   "metadata": {},
   "source": [
    "# 7. CAD (Coronary Artery Disease)"
   ]
  },
  {
   "cell_type": "markdown",
   "metadata": {},
   "source": [
    "## a. EAS (BBJ)"
   ]
  },
  {
   "cell_type": "code",
   "execution_count": null,
   "metadata": {},
   "outputs": [],
   "source": [
    "# n_gwas = 212453\n",
    "gwas = pd.read_table('sum_stats_data/cad/gwas.BBJ.CAD/CAD.auto.rsq07.mac10.txt', sep='\\s+')\n",
    "gwas = gwas[['CHR', 'POS', 'Allele1', 'Allele2', 'N', 'BETA', 'SE', 'p.value']]\n",
    "gwas = gwas[gwas['CHR'].isin(range(1, 23))]\n",
    "gwas = gwas[(gwas['Allele1'].str.len() == 1) & (gwas['Allele2'].str.len() == 1)]\n",
    "\n",
    "gwas = pd.merge(hapmap3, gwas)\n",
    "gwas = gwas[gwas['SNPID'].str.startswith('rs')].drop_duplicates(subset='SNPID')\n",
    "gwas_LDpred2 = gwas[['CHR', 'POS', 'SNPID', 'Allele2', 'Allele1', 'BETA', 'SE', 'N']]\n",
    "gwas_LDpred2.columns = ['chr', 'pos', 'rsid', 'a1', 'a0', 'beta', 'beta_se', 'n_eff']\n",
    "\n",
    "gwas_PRS_CS = gwas[['SNPID', 'Allele2', 'Allele1', 'BETA', 'SE']]\n",
    "gwas_PRS_CS.columns = ['SNP', 'A1', 'A2', 'BETA', 'SE']\n",
    "\n",
    "# save sumstats:\n",
    "gwas_LDpred2.to_csv(os.path.join('sum_stats_data/cad/gwas.BBJ.CAD/', 'gwas.LDpred2.txt'), index=False, sep='\\t')\n",
    "gwas_PRS_CS.to_csv(os.path.join('sum_stats_data/cad/gwas.BBJ.CAD/', 'gwas.PRSCS.txt'), index=False, sep='\\t')"
   ]
  },
  {
   "cell_type": "code",
   "execution_count": null,
   "metadata": {},
   "outputs": [],
   "source": [
    "# shaPRS\n",
    "gwas = pd.read_table('sum_stats_data/cad/gwas.BBJ.CAD/CAD.auto.rsq07.mac10.txt', sep='\\s+')\n",
    "gwas = gwas[['CHR', 'POS', 'Allele1', 'Allele2', 'N', 'BETA', 'SE', 'p.value']]\n",
    "gwas = gwas[gwas['CHR'].isin(range(1, 23))]\n",
    "gwas = gwas[(gwas['Allele1'].str.len() == 1) & (gwas['Allele2'].str.len() == 1)]\n",
    "\n",
    "gwas = pd.merge(hapmap3, gwas)\n",
    "gwas = gwas[gwas['SNPID'].str.startswith('rs')].drop_duplicates(subset='SNPID')\n",
    "gwas['Freq1.Hapmap'] = 'X'\n",
    "gwas.columns = ['chr', 'pos', 'SNP', 'A2', 'A1', 'N', 'b', 'se', 'p', 'Freq1.Hapmap']\n",
    "gwas[['chr', 'pos', 'SNP', 'A1', 'A2', 'Freq1.Hapmap', 'b', 'se', 'p', 'N']].to_csv(os.path.join('sum_stats_data/cad/gwas.BBJ.CAD/', \n",
    "                                                                                                 'gwas.shaPRS.txt'), index=False, sep='\\t')"
   ]
  },
  {
   "cell_type": "code",
   "execution_count": null,
   "metadata": {},
   "outputs": [
    {
     "name": "stderr",
     "output_type": "stream",
     "text": [
      "2025-02-21 11:09:28 [INFO]  Read the chain file \"../grch37_to_grch38.over.chain.gz\" \n"
     ]
    },
    {
     "name": "stdout",
     "output_type": "stream",
     "text": [
      "GWAS shape: (5197372, 9)\n"
     ]
    }
   ],
   "source": [
    "# PRSice-2\n",
    "\n",
    "# Load GWAS data\n",
    "gwas = pd.read_table('sum_stats_data/cad/gwas.BBJ.CAD/CAD.auto.rsq07.mac10.txt', sep='\\s+')\n",
    "gwas = gwas[['CHR', 'POS', 'Allele2', 'Allele1', 'BETA', 'p.value', 'AF_Allele2', 'SE']]\n",
    "gwas.columns = ['CHR', 'POS', 'A1', 'A2', 'BETA', 'P', 'AF_A1', 'SE']\n",
    "gwas = gwas[gwas['CHR'].isin(range(1, 23))]\n",
    "gwas = gwas[(gwas['A1'].str.len() == 1) & (gwas['A2'].str.len() == 1)]\n",
    "gwas['id'] = gwas['CHR'].astype(str) + ':' + gwas['POS'].astype(str)\n",
    "\n",
    "# Save GWAS data to BED format\n",
    "gwas_bed = gwas[['CHR', 'POS', 'POS', 'id']]\n",
    "gwas_bed.columns = ['#chrom', 'start', 'end', 'id']\n",
    "gwas_bed['start'] = gwas_bed['start'] - 1  # BED format uses 0-based start\n",
    "gwas_bed.to_csv('sum_stats_data/cad/gwas.BBJ.CAD/gwas.bed', index=False, sep='\\t')\n",
    "\n",
    "# Run CrossMap to convert coordinates\n",
    "chain_file = './grch37_to_grch38.over.chain.gz'\n",
    "input_bed = 'sum_stats_data/cad/gwas.BBJ.CAD/gwas.bed'\n",
    "output_bed = 'sum_stats_data/cad/gwas.BBJ.CAD/gwas_hg38.bed'\n",
    "subprocess.run(['CrossMap', 'bed', chain_file, input_bed, output_bed])\n",
    "\n",
    "# Read the converted BED file back into a DataFrame\n",
    "gwas_hg38 = pd.read_csv(output_bed, sep='\\t', names=['#chrom', 'start', 'end', 'id'])\n",
    "\n",
    "# Merge with original data: POS (old POS in hg37) to end (new POS in hg38)\n",
    "gwas = pd.merge(gwas_hg38, gwas, on='id')[['CHR', 'end', 'A1', 'A2', 'BETA', 'P', 'AF_A1', 'SE']]\n",
    "gwas.columns = ['CHR', 'POS', 'A1', 'A2', 'BETA', 'P', 'AF_A1', 'SE']\n",
    "\n",
    "# bim file in target data\n",
    "bim_file_target = pd.read_table('./target_data/target.data.impute.bim', sep='\\t', header=None)[[0, 1, 3]]\n",
    "bim_file_target.columns = ['CHR', 'SNP', 'POS']\n",
    "\n",
    "# Merge with target data\n",
    "gwas = pd.merge(bim_file_target, gwas, on=['CHR', 'POS'])\n",
    "gwas = gwas.drop_duplicates(subset='SNP', keep=False)\n",
    "print('GWAS shape:', gwas.shape)\n",
    "\n",
    "# Save the final sumstats\n",
    "# gwas.to_csv(os.path.join('./cad/gwas.BBJ.CAD/', 'gwas.PRSice.txt'), index=False, sep='\\t')\n",
    "gwas.to_csv(os.path.join('sum_stats_data/cad/gwas.BBJ.CAD/', 'gwas.BBJ.CAD.hg38.txt'), index=False, sep='\\t')"
   ]
  },
  {
   "cell_type": "markdown",
   "metadata": {},
   "source": [
    "## b. EUR"
   ]
  },
  {
   "cell_type": "code",
   "execution_count": null,
   "metadata": {},
   "outputs": [],
   "source": [
    "# n_gwas = 352063\n",
    "gwas = pd.read_table('sum_stats_data/cad/gwas.catalog.EUR.GCST90013864/34017140-GCST90013864-EFO_0001645.h.tsv')\n",
    "gwas = gwas[['hm_chrom', 'hm_rsid', 'hm_effect_allele', 'hm_other_allele', 'hm_beta', 'standard_error']]\n",
    "gwas.columns = ['CHR', 'SNPID', 'A1', 'A2', 'BETA', 'SE']\n",
    "gwas = gwas[gwas['CHR'].isin(range(1, 23))]\n",
    "gwas = gwas[(gwas['A1'].str.len() == 1) & (gwas['A2'].str.len() == 1)]\n",
    "gwas = gwas[gwas['SNPID'].str.startswith('rs')].drop_duplicates(subset='SNPID')\n",
    "gwas = pd.merge(hapmap3, gwas)\n",
    "\n",
    "gwas_PRS_CSx = gwas[['SNPID', 'A1', 'A2', 'BETA', 'SE']]\n",
    "gwas_PRS_CSx.columns = ['SNP', 'A1', 'A2', 'BETA', 'SE']\n",
    "\n",
    "# save sumstats:\n",
    "gwas_PRS_CSx.to_csv(os.path.join('sum_stats_data/cad/gwas.catalog.EUR.GCST90013864/', 'gwas.PRSCS.txt'), index=False, sep='\\t')"
   ]
  },
  {
   "cell_type": "code",
   "execution_count": null,
   "metadata": {},
   "outputs": [],
   "source": [
    "# shaPRS\n",
    "gwas = pd.read_table('sum_stats_data/cad/gwas.catalog.EUR.GCST90013864/34017140-GCST90013864-EFO_0001645.h.tsv')\n",
    "gwas = gwas[['hm_chrom', 'hm_rsid', 'hm_effect_allele', 'hm_other_allele', 'hm_beta', 'standard_error', 'p_value']]\n",
    "gwas.columns = ['CHR', 'SNPID', 'A1', 'A2', 'BETA', 'SE', 'P']\n",
    "gwas = gwas[gwas['CHR'].isin(range(1, 23))]\n",
    "gwas = gwas[(gwas['A1'].str.len() == 1) & (gwas['A2'].str.len() == 1)]\n",
    "gwas = gwas[gwas['SNPID'].str.startswith('rs')].drop_duplicates(subset='SNPID')\n",
    "gwas = pd.merge(hapmap3, gwas)\n",
    "\n",
    "gwas['Freq1.Hapmap'] = 'X'\n",
    "gwas['N'] = 352063\n",
    "gwas.columns = ['chr', 'pos', 'SNP', 'A1', 'A2', 'b', 'se', 'p', 'Freq1.Hapmap', 'N']\n",
    "gwas[['chr', 'pos', 'SNP', 'A1', 'A2', 'Freq1.Hapmap', 'b', 'se', 'p', 'N']].to_csv(os.path.join('sum_stats_data/cad/gwas.catalog.EUR.GCST90013864/', \n",
    "                                                                                                 'gwas.shaPRS.txt'), index=False, sep='\\t')"
   ]
  },
  {
   "cell_type": "markdown",
   "metadata": {},
   "source": [
    "# 8. Hyperlipidemia"
   ]
  },
  {
   "cell_type": "markdown",
   "metadata": {},
   "source": [
    "## a. EAS (BBJ)"
   ]
  },
  {
   "cell_type": "code",
   "execution_count": null,
   "metadata": {},
   "outputs": [],
   "source": [
    "# n_gwas = 9714\n",
    "gwas = pd.read_table('sum_stats_data/hyperlipidemia/gwas.catalog.EAS.GCST90090994/35046404-GCST90090994-MONDO_0021187.h.tsv')\n",
    "gwas = gwas[['hm_chrom', 'hm_rsid', 'hm_effect_allele', 'hm_other_allele', 'hm_beta', 'standard_error', 'p_value']]\n",
    "gwas.columns = ['CHR', 'SNPID', 'A1', 'A2', 'BETA', 'SE', 'P']\n",
    "gwas = gwas[gwas['CHR'].isin(range(1, 23))]\n",
    "gwas = gwas[(gwas['A1'].str.len() == 1) & (gwas['A2'].str.len() == 1)]\n",
    "gwas = gwas[gwas['SNPID'].str.startswith('rs')].drop_duplicates(subset='SNPID')\n",
    "\n",
    "gwas_PRSice2 = gwas[['CHR', 'SNPID', 'A1', 'A2', 'BETA', 'P']]\n",
    "gwas_PRSice2.columns = ['CHR', 'SNP', 'A1', 'A2', 'BETA', 'P']\n",
    "gwas_PRSice2.to_csv(os.path.join('sum_stats_data/hyperlipidemia/gwas.catalog.EAS.GCST90090994/', 'gwas.PRSice.txt'), index=False, sep='\\t')\n",
    "\n",
    "gwas = pd.merge(hapmap3, gwas)\n",
    "\n",
    "gwas_LDpred2 = gwas[['CHR', 'POS', 'SNPID', 'A1', 'A2', 'BETA', 'SE']]\n",
    "gwas_LDpred2['n_eff'] = 9714\n",
    "gwas_LDpred2.columns = ['chr', 'pos', 'rsid', 'a1', 'a0', 'beta', 'beta_se', 'n_eff']\n",
    "\n",
    "gwas_PRS_CS = gwas[['SNPID', 'A1', 'A2', 'BETA', 'SE']]\n",
    "gwas_PRS_CS.columns = ['SNP', 'A1', 'A2', 'BETA', 'SE']\n",
    "\n",
    "# save sumstats:\n",
    "gwas_LDpred2.to_csv(os.path.join('sum_stats_data/hyperlipidemia/gwas.catalog.EAS.GCST90090994/', 'gwas.LDpred2.txt'), index=False, sep='\\t')\n",
    "gwas_PRS_CS.to_csv(os.path.join('sum_stats_data/hyperlipidemia/gwas.catalog.EAS.GCST90090994/', 'gwas.PRSCS.txt'), index=False, sep='\\t')"
   ]
  },
  {
   "cell_type": "code",
   "execution_count": null,
   "metadata": {},
   "outputs": [],
   "source": [
    "# shaPRS\n",
    "gwas = pd.read_table('sum_stats_data/hyperlipidemia/gwas.catalog.EAS.GCST90090994/35046404-GCST90090994-MONDO_0021187.h.tsv')\n",
    "gwas = gwas[['hm_chrom', 'hm_rsid', 'hm_effect_allele', 'hm_other_allele', 'hm_beta', 'standard_error', 'p_value']]\n",
    "gwas.columns = ['CHR', 'SNPID', 'A1', 'A2', 'BETA', 'SE', 'P']\n",
    "gwas = pd.merge(hapmap3, gwas, how='inner', on=['CHR', 'SNPID'])\n",
    "gwas = gwas[(gwas['A1'].str.len() == 1) & (gwas['A2'].str.len() == 1)]\n",
    "# only keep SNPID startwith rs\n",
    "gwas = gwas[gwas['SNPID'].str.startswith('rs')].drop_duplicates(subset='SNPID')\n",
    "\n",
    "gwas['Freq1.Hapmap'] = 'X'\n",
    "gwas['N'] = 9714\n",
    "gwas.columns = ['chr', 'pos', 'SNP', 'A1', 'A2', 'b', 'se', 'p', 'Freq1.Hapmap', 'N']\n",
    "gwas[['chr', 'pos', 'SNP', 'A1', 'A2', 'Freq1.Hapmap', 'b', 'se', 'p', 'N']].to_csv(os.path.join('sum_stats_data/hyperlipidemia/gwas.catalog.EAS.GCST90090994/', \n",
    "                                                                                                 'gwas.shaPRS.txt'), index=False, sep='\\t')"
   ]
  },
  {
   "cell_type": "markdown",
   "metadata": {},
   "source": [
    "## b. EUR"
   ]
  },
  {
   "cell_type": "code",
   "execution_count": null,
   "metadata": {},
   "outputs": [],
   "source": [
    "# n_gwas = 349222\n",
    "gwas = pd.read_table('sum_stats_data/hyperlipidemia/gwas.catalog.EUR.GCST90104006/34906840-GCST90104006-MONDO_0001336.h.tsv')\n",
    "gwas = gwas[['hm_chrom', 'hm_rsid', 'hm_effect_allele', 'hm_other_allele', 'hm_beta', 'standard_error']]\n",
    "gwas.columns = ['CHR', 'SNPID', 'A1', 'A2', 'BETA', 'SE']\n",
    "gwas = gwas[gwas['CHR'].isin(range(1, 23))]\n",
    "gwas = gwas[(gwas['A1'].str.len() == 1) & (gwas['A2'].str.len() == 1)]\n",
    "gwas = gwas[gwas['SNPID'].str.startswith('rs')].drop_duplicates(subset='SNPID')\n",
    "gwas = pd.merge(hapmap3, gwas)\n",
    "\n",
    "gwas_PRS_CS = gwas[['SNPID', 'A1', 'A2', 'BETA', 'SE']]\n",
    "gwas_PRS_CS.columns = ['SNP', 'A1', 'A2', 'BETA', 'SE']\n",
    "\n",
    "# save sumstats:\n",
    "gwas_PRS_CS.to_csv(os.path.join('sum_stats_data/hyperlipidemia/gwas.catalog.EUR.GCST90104006/', 'gwas.PRSCS.txt'), index=False, sep='\\t')"
   ]
  },
  {
   "cell_type": "code",
   "execution_count": null,
   "metadata": {},
   "outputs": [],
   "source": [
    "# shaPRS\n",
    "gwas = pd.read_table('sum_stats_data/hyperlipidemia/gwas.catalog.EUR.GCST90104006/34906840-GCST90104006-MONDO_0001336.h.tsv')\n",
    "gwas = gwas[['hm_chrom', 'hm_rsid', 'hm_effect_allele', 'hm_other_allele', 'hm_beta', 'standard_error', 'p_value']]\n",
    "gwas.columns = ['CHR', 'SNPID', 'A1', 'A2', 'BETA', 'SE', 'P']\n",
    "gwas = pd.merge(hapmap3, gwas, how='inner', on=['CHR', 'SNPID'])\n",
    "gwas = gwas[(gwas['A1'].str.len() == 1) & (gwas['A2'].str.len() == 1)]\n",
    "# only keep SNPID startwith rs\n",
    "gwas = gwas[gwas['SNPID'].str.startswith('rs')].drop_duplicates(subset='SNPID')\n",
    "\n",
    "gwas['Freq1.Hapmap'] = 'X'\n",
    "gwas['N'] = 349222\n",
    "gwas.columns = ['chr', 'pos', 'SNP', 'A1', 'A2', 'b', 'se', 'p', 'Freq1.Hapmap', 'N']\n",
    "gwas[['chr', 'pos', 'SNP', 'A1', 'A2', 'Freq1.Hapmap', 'b', 'se', 'p', 'N']].to_csv(os.path.join('sum_stats_data/hyperlipidemia/gwas.catalog.EUR.GCST90104006/', \n",
    "                                                                                                 'gwas.shaPRS.txt'), index=False, sep='\\t')"
   ]
  },
  {
   "cell_type": "markdown",
   "metadata": {},
   "source": [
    "# 9. Osteoarthritis"
   ]
  },
  {
   "cell_type": "markdown",
   "metadata": {},
   "source": [
    "## a. EAS (BBJ)"
   ]
  },
  {
   "cell_type": "code",
   "execution_count": null,
   "metadata": {},
   "outputs": [],
   "source": [
    "# n_gwas = 1704\n",
    "gwas = pd.read_csv('sum_stats_data/osteoarthritis/gwas.catalog.EAS.GCST90134281/GCST90134281_buildGRCh37.csv')\n",
    "gwas = gwas[['chromosome', 'base_pair_location', 'effect_allele', 'other_allele', 'beta', 'standard_error']]\n",
    "gwas.columns = ['CHR', 'POS', 'A1', 'A2', 'BETA', 'SE']\n",
    "gwas = gwas[gwas['CHR'].isin(range(1, 23))]\n",
    "gwas = gwas[(gwas['A1'].str.len() == 1) & (gwas['A2'].str.len() == 1)]\n",
    "\n",
    "gwas = pd.merge(hapmap3, gwas)\n",
    "gwas = gwas[gwas['SNPID'].str.startswith('rs')].drop_duplicates(subset='SNPID')\n",
    "\n",
    "gwas_LDpred2 = gwas[['CHR', 'POS', 'SNPID', 'A1', 'A2', 'BETA', 'SE']]\n",
    "gwas_LDpred2['n_eff'] = 1704\n",
    "gwas_LDpred2.columns = ['chr', 'pos', 'rsid', 'a1', 'a0', 'beta', 'beta_se', 'n_eff']\n",
    "\n",
    "gwas_PRS_CS = gwas[['SNPID', 'A1', 'A2', 'BETA', 'SE']]\n",
    "gwas_PRS_CS.columns = ['SNP', 'A1', 'A2', 'BETA', 'SE']\n",
    "\n",
    "# save sumstats:\n",
    "gwas_LDpred2.to_csv(os.path.join('sum_stats_data/osteoarthritis/gwas.catalog.EAS.GCST90134281/', 'gwas.LDpred2.txt'), index=False, sep='\\t')\n",
    "gwas_PRS_CS.to_csv(os.path.join('sum_stats_data/osteoarthritis/gwas.catalog.EAS.GCST90134281/', 'gwas.PRSCS.txt'), index=False, sep='\\t')"
   ]
  },
  {
   "cell_type": "code",
   "execution_count": null,
   "metadata": {},
   "outputs": [],
   "source": [
    "# shaPRS\n",
    "gwas = pd.read_csv('sum_stats_data/osteoarthritis/gwas.catalog.EAS.GCST90134281/GCST90134281_buildGRCh37.csv')\n",
    "gwas = gwas[['chromosome', 'base_pair_location', 'effect_allele', 'other_allele', 'beta', 'standard_error', 'p_value']]\n",
    "gwas.columns = ['CHR', 'POS', 'A1', 'A2', 'BETA', 'SE', 'P']\n",
    "gwas = pd.merge(hapmap3, gwas, how='inner', on=['CHR', 'POS'])\n",
    "gwas = gwas[(gwas['A1'].str.len() == 1) & (gwas['A2'].str.len() == 1)]\n",
    "# only keep SNPID startwith rs\n",
    "gwas = gwas[gwas['SNPID'].str.startswith('rs')].drop_duplicates(subset='SNPID')\n",
    "\n",
    "gwas['Freq1.Hapmap'] = 'X'\n",
    "gwas['N'] = 1704\n",
    "gwas.columns = ['chr', 'pos', 'SNP', 'A1', 'A2', 'b', 'se', 'p', 'Freq1.Hapmap', 'N']\n",
    "gwas[['chr', 'pos', 'SNP', 'A1', 'A2', 'Freq1.Hapmap', 'b', 'se', 'p', 'N']].to_csv(os.path.join('sum_stats_data/osteoarthritis/gwas.catalog.EAS.GCST90134281/', \n",
    "                                                                                                 'gwas.shaPRS.txt'), index=False, sep='\\t')"
   ]
  },
  {
   "cell_type": "code",
   "execution_count": null,
   "metadata": {},
   "outputs": [
    {
     "name": "stderr",
     "output_type": "stream",
     "text": [
      "2025-02-21 11:20:44 [INFO]  Read the chain file \"../grch37_to_grch38.over.chain.gz\" \n"
     ]
    },
    {
     "name": "stdout",
     "output_type": "stream",
     "text": [
      "GWAS shape: (5399812, 9)\n"
     ]
    }
   ],
   "source": [
    "# PRSice-2\n",
    "\n",
    "# Load GWAS data\n",
    "gwas = pd.read_csv('sum_stats_data/osteoarthritis/gwas.catalog.EAS.GCST90134281/GCST90134281_buildGRCh37.csv')\n",
    "gwas = gwas[['chromosome', 'base_pair_location', 'effect_allele', 'other_allele', 'beta', 'p_value', 'effect_allele_frequency', 'standard_error']]\n",
    "gwas.columns = ['CHR', 'POS', 'A1', 'A2', 'BETA', 'P', 'AF_A1', 'SE']\n",
    "gwas = gwas[gwas['CHR'].isin(range(1, 23))]\n",
    "gwas = gwas[(gwas['A1'].str.len() == 1) & (gwas['A2'].str.len() == 1)]\n",
    "gwas['id'] = gwas['CHR'].astype(str) + ':' + gwas['POS'].astype(str)\n",
    "\n",
    "# Save GWAS data to BED format\n",
    "gwas_bed = gwas[['CHR', 'POS', 'POS', 'id']]\n",
    "gwas_bed.columns = ['#chrom', 'start', 'end', 'id']\n",
    "gwas_bed['start'] = gwas_bed['start'] - 1  # BED format uses 0-based start\n",
    "gwas_bed.to_csv('sum_stats_data/osteoarthritis/gwas.catalog.EAS.GCST90134281/gwas.bed', index=False, sep='\\t')\n",
    "\n",
    "# Run CrossMap to convert coordinates\n",
    "chain_file = './grch37_to_grch38.over.chain.gz'\n",
    "input_bed = 'sum_stats_data/osteoarthritis/gwas.catalog.EAS.GCST90134281/gwas.bed'\n",
    "output_bed = 'sum_stats_data/osteoarthritis/gwas.catalog.EAS.GCST90134281/gwas_hg38.bed'\n",
    "subprocess.run(['CrossMap', 'bed', chain_file, input_bed, output_bed])\n",
    "\n",
    "# Read the converted BED file back into a DataFrame\n",
    "gwas_hg38 = pd.read_csv(output_bed, sep='\\t', names=['#chrom', 'start', 'end', 'id'])\n",
    "\n",
    "# Merge with original data: POS (old POS in hg37) to end (new POS in hg38)\n",
    "gwas = pd.merge(gwas_hg38, gwas, on='id')[['CHR', 'end', 'A1', 'A2', 'BETA', 'P', 'AF_A1', 'SE']]\n",
    "gwas.columns = ['CHR', 'POS', 'A1', 'A2', 'BETA', 'P', 'AF_A1', 'SE']\n",
    "\n",
    "# bim file in target data\n",
    "bim_file_target = pd.read_table('./target_data/target.data.impute.bim', sep='\\t', header=None)[[0, 1, 3]]\n",
    "bim_file_target.columns = ['CHR', 'SNP', 'POS']\n",
    "\n",
    "# Merge with target data\n",
    "gwas = pd.merge(bim_file_target, gwas, on=['CHR', 'POS'])\n",
    "gwas = gwas.drop_duplicates(subset='SNP', keep=False)\n",
    "print('GWAS shape:', gwas.shape)\n",
    "\n",
    "# Save the final sumstats\n",
    "# gwas.to_csv(os.path.join('./osteoarthritis/gwas.catalog.EAS.GCST90134281/', 'gwas.PRSice.txt'), index=False, sep='\\t')\n",
    "gwas.to_csv(os.path.join('sum_stats_data/osteoarthritis/gwas.catalog.EAS.GCST90134281/', 'gwas.BBJ.osteoarthritis.hg38.txt'), index=False, sep='\\t')"
   ]
  },
  {
   "cell_type": "markdown",
   "metadata": {},
   "source": [
    "## b. EUR"
   ]
  },
  {
   "cell_type": "code",
   "execution_count": null,
   "metadata": {},
   "outputs": [],
   "source": [
    "# n_gwas = 413170\n",
    "gwas = pd.read_table('sum_stats_data/osteoarthritis/gwas.catalog.EUR.GCST90134288/GCST90134288.h.tsv')\n",
    "gwas = gwas[['chromosome', 'rsid', 'effect_allele', 'other_allele', 'beta', 'standard_error']]\n",
    "gwas.columns = ['CHR', 'SNPID', 'A1', 'A2', 'BETA', 'SE']\n",
    "gwas = gwas[gwas['CHR'].isin(range(1, 23))]\n",
    "gwas = gwas[(gwas['A1'].str.len() == 1) & (gwas['A2'].str.len() == 1)]\n",
    "gwas = pd.merge(hapmap3, gwas)   \n",
    "gwas = gwas[gwas['SNPID'].str.startswith('rs')].drop_duplicates(subset='SNPID')\n",
    "\n",
    "gwas_PRS_CS = gwas[['SNPID', 'A1', 'A2', 'BETA', 'SE']]\n",
    "gwas_PRS_CS.columns = ['SNP', 'A1', 'A2', 'BETA', 'SE']\n",
    "\n",
    "# save sumstats:\n",
    "gwas_PRS_CS.to_csv(os.path.join('sum_stats_data/osteoarthritis/gwas.catalog.EUR.GCST90134288/', 'gwas.PRSCS.txt'), index=False, sep='\\t')"
   ]
  },
  {
   "cell_type": "code",
   "execution_count": null,
   "metadata": {},
   "outputs": [],
   "source": [
    "# shaPRS\n",
    "gwas = pd.read_table('sum_stats_data/osteoarthritis/gwas.catalog.EUR.GCST90134288/GCST90134288.h.tsv')\n",
    "gwas = gwas[['chromosome', 'rsid', 'effect_allele', 'other_allele', 'beta', 'standard_error', 'p_value']]\n",
    "gwas.columns = ['CHR', 'SNPID', 'A1', 'A2', 'BETA', 'SE', 'P']\n",
    "gwas = pd.merge(hapmap3, gwas, how='inner', on=['CHR', 'SNPID'])\n",
    "gwas = gwas[(gwas['A1'].str.len() == 1) & (gwas['A2'].str.len() == 1)]\n",
    "# only keep SNPID startwith rs\n",
    "gwas = gwas[gwas['SNPID'].str.startswith('rs')].drop_duplicates(subset='SNPID')\n",
    "\n",
    "gwas['Freq1.Hapmap'] = 'X'\n",
    "gwas['N'] = 413170\n",
    "gwas.columns = ['chr', 'pos', 'SNP', 'A1', 'A2', 'b', 'se', 'p', 'Freq1.Hapmap', 'N']\n",
    "gwas[['chr', 'pos', 'SNP', 'A1', 'A2', 'Freq1.Hapmap', 'b', 'se', 'p', 'N']].to_csv(os.path.join('sum_stats_data/osteoarthritis/gwas.catalog.EUR.GCST90134288/', \n",
    "                                                                                                 'gwas.shaPRS.txt'), index=False, sep='\\t')"
   ]
  }
 ],
 "metadata": {
  "kernelspec": {
   "display_name": "vgp",
   "language": "python",
   "name": "python3"
  },
  "language_info": {
   "codemirror_mode": {
    "name": "ipython",
    "version": 3
   },
   "file_extension": ".py",
   "mimetype": "text/x-python",
   "name": "python",
   "nbconvert_exporter": "python",
   "pygments_lexer": "ipython3",
   "version": "3.11.9"
  }
 },
 "nbformat": 4,
 "nbformat_minor": 2
}
