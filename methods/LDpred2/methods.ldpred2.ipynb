{
 "cells": [
  {
   "cell_type": "code",
   "execution_count": 1,
   "metadata": {},
   "outputs": [],
   "source": [
    "import os\n",
    "import numpy as np\n",
    "import pandas as pd\n",
    "import matplotlib.pyplot as plt\n",
    "import seaborn as sns\n",
    "import warnings\n",
    "warnings.filterwarnings('ignore')\n",
    "from sklearn.metrics import roc_auc_score\n",
    "\n",
    "import rpy2.robjects as robjects\n",
    "from rpy2.robjects.packages import importr\n",
    "from rpy2.robjects import pandas2ri\n",
    "# Activate the automatic conversion of Pandas DataFrames to R DataFrames\n",
    "pandas2ri.activate()"
   ]
  },
  {
   "cell_type": "markdown",
   "metadata": {},
   "source": [
    "### Prepare genotype file, hapmap3+ file:"
   ]
  },
  {
   "cell_type": "code",
   "execution_count": null,
   "metadata": {},
   "outputs": [
    {
     "name": "stderr",
     "output_type": "stream",
     "text": [
      "R[write to console]: Error: File '/home/sangnv/Desktop/VGP_10_diseases/target_data/eas.1kgp.hapmap3.annotate.bk' already exists.\n",
      "\n",
      "R[write to console]: In addition: \n",
      "R[write to console]: Warning message:\n",
      "\n",
      "R[write to console]: In (function (package, help, pos = 2, lib.loc = NULL, character.only = FALSE,  :\n",
      "R[write to console]: \n",
      " \n",
      "R[write to console]:  libraries ‘/usr/local/lib/R/site-library’, ‘/usr/lib/R/site-library’ contain no packages\n",
      "\n"
     ]
    },
    {
     "name": "stdout",
     "output_type": "stream",
     "text": [
      "Loading genotype data...\n"
     ]
    }
   ],
   "source": [
    "# read bed, bim, fam to generate .rds and .bk file\n",
    "bigsnpr = importr('bigsnpr')\n",
    "print(\"Loading genotype data...\")\n",
    "try:\n",
    "    # Import the R packages\n",
    "    bigsnpr.snp_readBed('/home/sangnv/Desktop/VGP_10_diseases/target_data/eas.1kgp.hapmap3.annotate.bed')\n",
    "except:\n",
    "    pass"
   ]
  },
  {
   "cell_type": "code",
   "execution_count": null,
   "metadata": {},
   "outputs": [],
   "source": [
    "# Run once for all\n",
    "\n",
    "r0_code = \"\"\"\n",
    "setwd('~/Desktop/VGP_10_diseases/methods/LDpred2/')\n",
    "library(bigsnpr)\n",
    "\n",
    "# Load the genotype data\n",
    "obj.bigSNP <- snp_attach(\"/home/sangnv/Desktop/VGP_10_diseases/target_data/eas.1kgp.hapmap3.annotate.rds\")\n",
    "G   <- obj.bigSNP$genotypes\n",
    "CHR <- obj.bigSNP$map$chromosome\n",
    "POS <- obj.bigSNP$map$physical.pos\n",
    "NCORES <- nb_cores()\n",
    "map <- setNames(obj.bigSNP$map[-3], c(\"chr\", \"rsid\", \"pos\", \"a1\", \"a0\"))\n",
    "POS2 <- snp_asGeneticPos(CHR, POS, dir = \".\", ncores = as.integer(NCORES/2))\n",
    "\n",
    "# Load hapmap3+ variants\n",
    "hapmap3 <- readRDS('./map_hm3_plus.rds')\n",
    "\n",
    "\"\"\"\n",
    "\n",
    "robjects.r(r0_code)"
   ]
  },
  {
   "cell_type": "markdown",
   "metadata": {},
   "source": [
    "### Run for each disease:"
   ]
  },
  {
   "cell_type": "code",
   "execution_count": 26,
   "metadata": {},
   "outputs": [],
   "source": [
    "def LDpred2_auto(sumstats_file: str, \n",
    "                 output_folder: str,\n",
    "                 output_name: str):\n",
    "    \n",
    "    print(\"Loading summary statistics...\")\n",
    "    sumstats = pd.read_table(sumstats_file)\n",
    "    robjects.globalenv['sumstats'] = sumstats\n",
    "\n",
    "    print(\"Run R code...\")\n",
    "    r_code = \"\"\"\n",
    "    setwd('~/Desktop/VGP_10_diseases/methods/LDpred2/')\n",
    "\n",
    "    # Merge the summary statistics with hapmap3+\n",
    "    sumstats <- sumstats[sumstats$rsid %in% hapmap3$rsid, ]\n",
    "\n",
    "    # SNPs matching\n",
    "    print(\"Matching SNPs...\")\n",
    "    df_beta <- snp_match(sumstats, map, join_by_pos = FALSE, match.min.prop=0.01)\n",
    "\n",
    "    # Calculate LD score\n",
    "    tmp <- tempfile(tmpdir = \"tmp_data\")\n",
    "\n",
    "    print(\"Calculate LD score in chr:\")\n",
    "    for (chr in 1:22) {\n",
    "        print(chr)\n",
    "        ind.chr <- which(df_beta$chr == chr)\n",
    "        ind.chr2 <- df_beta$`_NUM_ID_`[ind.chr]\n",
    "        corr0 <- snp_cor(G, \n",
    "                        ind.col = ind.chr2, \n",
    "                        size = 1 / 1000,\n",
    "                        infos.pos = POS2[ind.chr2], \n",
    "                        ncores = as.integer(NCORES/4))\n",
    "        if (chr == 1) {\n",
    "            ld <- Matrix::colSums(corr0^2)\n",
    "            corr <- as_SFBM(corr0, tmp, compact = TRUE)\n",
    "        } else {\n",
    "            ld <- c(ld, Matrix::colSums(corr0^2))\n",
    "            corr$add_columns(corr0, nrow(corr))\n",
    "        }\n",
    "    }\n",
    "    \n",
    "    ldsc <- with(df_beta, snp_ldsc(ld, length(ld), chi2 = (beta / beta_se)^2,\n",
    "                                    sample_size = n_eff, blocks = NULL))\n",
    "    ldsc_h2_est <- ldsc[[\"h2\"]]\n",
    "    print(paste0(\"ldsc_h2 = \", ldsc_h2_est))\n",
    "\n",
    "    # Perform LDpred2-grid\n",
    "    set.seed(1)\n",
    "    print(\"Run LDpred2-grid...\")\n",
    "    h2_seq <- round(ldsc_h2_est * c(0.7, 1, 1.4), 4)\n",
    "    p_seq <- signif(seq_log(1e-5, 0.5, length.out = 15), 2)\n",
    "    params <- expand.grid(p = p_seq, h2 = h2_seq, sparse = c(FALSE, TRUE))\n",
    "    beta_grid <- snp_ldpred2_grid(corr, df_beta, params, ncores = as.integer(NCORES/4))\n",
    "\n",
    "    # Perform LDpred2-auto\n",
    "    set.seed(1)\n",
    "    print(\"Run LDpred2-auto...\")\n",
    "    multi_auto <- snp_ldpred2_auto(\n",
    "        corr, \n",
    "        df_beta, \n",
    "        h2_init = ldsc_h2_est,\n",
    "        vec_p_init = seq_log(1e-5, 0.5, length.out = 30), \n",
    "        ncores = as.integer(NCORES/4),\n",
    "        allow_jump_sign = FALSE,\n",
    "        use_MLE = FALSE,\n",
    "        shrink_corr = 0.95)\n",
    "\n",
    "    range <- sapply(multi_auto, function(auto) diff(range(auto$corr_est)))\n",
    "    keep <- which(range > (0.95 * quantile(range, 0.95, na.rm = TRUE)))\n",
    "    beta_auto <- rowMeans(sapply(multi_auto[keep], function(auto) auto$beta_est))\n",
    "\n",
    "    \"\"\"\n",
    "\n",
    "    robjects.r(r_code)\n",
    "\n",
    "    # clear tmp_data memory\n",
    "    os.system(\"rm /home/sangnv/Desktop/VGP_10_diseases/methods/LDpred2/tmp_data/*\")\n",
    "\n",
    "    beta_file = os.path.join(output_folder, output_name)\n",
    "    df_beta = pandas2ri.rpy2py(robjects.globalenv['df_beta'])[['chr', 'rsid', 'a0', 'a1']].reset_index(drop=True)\n",
    "    df_beta['beta.auto'] = robjects.globalenv['beta_auto']\n",
    "    beta_grid = pd.DataFrame(robjects.globalenv['beta_grid'], \n",
    "                             columns=[\"beta.grid.\" + str(i) for i in range(1, 91)])\n",
    "    df_beta = pd.concat([df_beta, beta_grid], axis=1)\n",
    "    df_beta.to_csv(beta_file, sep='\\t', index=False)\n",
    "    print(f'Beta file saved in {beta_file}')\n",
    "    print(\"Done! \\n\")"
   ]
  },
  {
   "cell_type": "markdown",
   "metadata": {},
   "source": [
    "## 1. Breast cancer:"
   ]
  },
  {
   "cell_type": "code",
   "execution_count": null,
   "metadata": {},
   "outputs": [
    {
     "name": "stdout",
     "output_type": "stream",
     "text": [
      "Loading summary statistics...\n",
      "Run R code...\n",
      "[1] \"Matching SNPs...\"\n"
     ]
    },
    {
     "name": "stderr",
     "output_type": "stream",
     "text": [
      "R[write to console]: 1,047,607 variants to be matched.\n",
      "\n",
      "R[write to console]: 4 ambiguous SNPs have been removed.\n",
      "\n",
      "R[write to console]: 997,319 variants have been matched; 532 were flipped and 322,091 were reversed.\n",
      "\n"
     ]
    },
    {
     "name": "stdout",
     "output_type": "stream",
     "text": [
      "[1] \"Calculate LD score in chr:\"\n",
      "[1] 1\n",
      "[1] 2\n",
      "[1] 3\n",
      "[1] 4\n",
      "[1] 5\n",
      "[1] 6\n",
      "[1] 7\n",
      "[1] 8\n",
      "[1] 9\n",
      "[1] 10\n",
      "[1] 11\n",
      "[1] 12\n",
      "[1] 13\n",
      "[1] 14\n",
      "[1] 15\n",
      "[1] 16\n",
      "[1] 17\n",
      "[1] 18\n",
      "[1] 19\n",
      "[1] 20\n",
      "[1] 21\n",
      "[1] 22\n",
      "[1] \"ldsc_h2 = 0.0426356227804056\"\n",
      "[1] \"Run LDpred2-grid...\"\n",
      "[1] \"Run LDpred2-auto...\"\n",
      "Beta file saved in ../../results/breast_cancer/LDpred2.pst.beta.txt\n",
      "Done! \n",
      "\n"
     ]
    }
   ],
   "source": [
    "# BBJ\n",
    "sumstats_file = \"../../sum_stats_data/breast_cancer/hum0197.v3.BBJ.BC.v1/gwas.LDpred2.txt\"\n",
    "LDpred2_auto(sumstats_file=sumstats_file,\n",
    "            output_folder=\"../../results/breast_cancer/\",\n",
    "            output_name=\"LDpred2.pst.beta.txt\")"
   ]
  },
  {
   "cell_type": "code",
   "execution_count": 7,
   "metadata": {},
   "outputs": [
    {
     "name": "stdout",
     "output_type": "stream",
     "text": [
      "Loading summary statistics...\n",
      "Run R code...\n",
      "[1] \"Matching SNPs...\"\n"
     ]
    },
    {
     "name": "stderr",
     "output_type": "stream",
     "text": [
      "R[write to console]: 1,047,607 variants to be matched.\n",
      "\n",
      "R[write to console]: 4 ambiguous SNPs have been removed.\n",
      "\n",
      "R[write to console]: 997,319 variants have been matched; 532 were flipped and 322,091 were reversed.\n",
      "\n"
     ]
    },
    {
     "name": "stdout",
     "output_type": "stream",
     "text": [
      "[1] \"Calculate LD score in chr:\"\n",
      "[1] 1\n",
      "[1] 2\n",
      "[1] 3\n",
      "[1] 4\n",
      "[1] 5\n",
      "[1] 6\n",
      "[1] 7\n",
      "[1] 8\n",
      "[1] 9\n",
      "[1] 10\n",
      "[1] 11\n",
      "[1] 12\n",
      "[1] 13\n",
      "[1] 14\n",
      "[1] 15\n",
      "[1] 16\n",
      "[1] 17\n",
      "[1] 18\n",
      "[1] 19\n",
      "[1] 20\n",
      "[1] 21\n",
      "[1] 22\n",
      "[1] \"ldsc_h2 = 0.0213924853018115\"\n",
      "[1] \"Run LDpred2-grid...\"\n",
      "[1] \"Run LDpred2-auto...\"\n",
      "Beta file saved in ../../results/breast_cancer/LDpred2.shaprs.BBJ.EUR.pst.beta.txt\n",
      "Done! \n",
      "\n"
     ]
    }
   ],
   "source": [
    "# shaPRS (BBJ+EUR) + LDpred2\n",
    "sumstats_file = \"../../sum_stats_data/breast_cancer/gwas.BBJ.EUR_shaprs.LDpred2.txt\"\n",
    "LDpred2_auto(sumstats_file=sumstats_file,\n",
    "             output_folder=\"../../results/breast_cancer/\",\n",
    "             output_name=\"LDpred2.shaprs.BBJ.EUR.pst.beta.txt\")"
   ]
  },
  {
   "cell_type": "markdown",
   "metadata": {},
   "source": [
    "## 2. Colorectal cancer"
   ]
  },
  {
   "cell_type": "code",
   "execution_count": 8,
   "metadata": {},
   "outputs": [
    {
     "name": "stdout",
     "output_type": "stream",
     "text": [
      "Loading summary statistics...\n",
      "Run R code...\n",
      "[1] \"Matching SNPs...\"\n"
     ]
    },
    {
     "name": "stderr",
     "output_type": "stream",
     "text": [
      "R[write to console]: 1,045,672 variants to be matched.\n",
      "\n",
      "R[write to console]: 3 ambiguous SNPs have been removed.\n",
      "\n",
      "R[write to console]: 994,561 variants have been matched; 532 were flipped and 321,207 were reversed.\n",
      "\n"
     ]
    },
    {
     "name": "stdout",
     "output_type": "stream",
     "text": [
      "[1] \"Calculate LD score in chr:\"\n",
      "[1] 1\n",
      "[1] 2\n",
      "[1] 3\n",
      "[1] 4\n",
      "[1] 5\n",
      "[1] 6\n",
      "[1] 7\n",
      "[1] 8\n",
      "[1] 9\n",
      "[1] 10\n",
      "[1] 11\n",
      "[1] 12\n",
      "[1] 13\n",
      "[1] 14\n",
      "[1] 15\n",
      "[1] 16\n",
      "[1] 17\n",
      "[1] 18\n",
      "[1] 19\n",
      "[1] 20\n",
      "[1] 21\n",
      "[1] 22\n",
      "[1] \"ldsc_h2 = 0.0267536927992331\"\n",
      "[1] \"Run LDpred2-grid...\"\n",
      "[1] \"Run LDpred2-auto...\"\n",
      "Beta file saved in ../../results/colorectal_cancer/LDpred2.pst.beta.txt\n",
      "Done! \n",
      "\n"
     ]
    }
   ],
   "source": [
    "# BBJ\n",
    "sumstats_file = \"../../sum_stats_data/colorectal_cancer/hum0197.v3.BBJ.CC.v1/gwas.LDpred2.txt\"\n",
    "LDpred2_auto(sumstats_file=sumstats_file,\n",
    "             output_folder=\"../../results/colorectal_cancer/\",\n",
    "             output_name=\"LDpred2.pst.beta.txt\")"
   ]
  },
  {
   "cell_type": "code",
   "execution_count": 9,
   "metadata": {},
   "outputs": [
    {
     "name": "stdout",
     "output_type": "stream",
     "text": [
      "Loading summary statistics...\n",
      "Run R code...\n",
      "[1] \"Matching SNPs...\"\n"
     ]
    },
    {
     "name": "stderr",
     "output_type": "stream",
     "text": [
      "R[write to console]: 1,045,672 variants to be matched.\n",
      "\n",
      "R[write to console]: 3 ambiguous SNPs have been removed.\n",
      "\n",
      "R[write to console]: 994,561 variants have been matched; 532 were flipped and 321,207 were reversed.\n",
      "\n"
     ]
    },
    {
     "name": "stdout",
     "output_type": "stream",
     "text": [
      "[1] \"Calculate LD score in chr:\"\n",
      "[1] 1\n",
      "[1] 2\n",
      "[1] 3\n",
      "[1] 4\n",
      "[1] 5\n",
      "[1] 6\n",
      "[1] 7\n",
      "[1] 8\n",
      "[1] 9\n",
      "[1] 10\n",
      "[1] 11\n",
      "[1] 12\n",
      "[1] 13\n",
      "[1] 14\n",
      "[1] 15\n",
      "[1] 16\n",
      "[1] 17\n",
      "[1] 18\n",
      "[1] 19\n",
      "[1] 20\n",
      "[1] 21\n",
      "[1] 22\n",
      "[1] \"ldsc_h2 = 0.00899433044615795\"\n",
      "[1] \"Run LDpred2-grid...\"\n",
      "[1] \"Run LDpred2-auto...\"\n",
      "Beta file saved in ../../results/colorectal_cancer/LDpred2.shaprs.BBJ.EUR.pst.beta.txt\n",
      "Done! \n",
      "\n"
     ]
    }
   ],
   "source": [
    "# shaPRS (BBJ+EUR) + LDpred2\n",
    "sumstats_file = \"../../sum_stats_data/colorectal_cancer/gwas.BBJ.EUR_shaprs.LDpred2.txt\"\n",
    "LDpred2_auto(sumstats_file=sumstats_file,\n",
    "             output_folder=\"../../results/colorectal_cancer/\",\n",
    "             output_name=\"LDpred2.shaprs.BBJ.EUR.pst.beta.txt\")"
   ]
  },
  {
   "cell_type": "markdown",
   "metadata": {},
   "source": [
    "## 3. Gastric cancer"
   ]
  },
  {
   "cell_type": "code",
   "execution_count": 10,
   "metadata": {},
   "outputs": [
    {
     "name": "stdout",
     "output_type": "stream",
     "text": [
      "Loading summary statistics...\n",
      "Run R code...\n",
      "[1] \"Matching SNPs...\"\n"
     ]
    },
    {
     "name": "stderr",
     "output_type": "stream",
     "text": [
      "R[write to console]: 1,045,669 variants to be matched.\n",
      "\n",
      "R[write to console]: 3 ambiguous SNPs have been removed.\n",
      "\n",
      "R[write to console]: 994,546 variants have been matched; 532 were flipped and 321,197 were reversed.\n",
      "\n"
     ]
    },
    {
     "name": "stdout",
     "output_type": "stream",
     "text": [
      "[1] \"Calculate LD score in chr:\"\n",
      "[1] 1\n",
      "[1] 2\n",
      "[1] 3\n",
      "[1] 4\n",
      "[1] 5\n",
      "[1] 6\n",
      "[1] 7\n",
      "[1] 8\n",
      "[1] 9\n",
      "[1] 10\n",
      "[1] 11\n",
      "[1] 12\n",
      "[1] 13\n",
      "[1] 14\n",
      "[1] 15\n",
      "[1] 16\n",
      "[1] 17\n",
      "[1] 18\n",
      "[1] 19\n",
      "[1] 20\n",
      "[1] 21\n",
      "[1] 22\n",
      "[1] \"ldsc_h2 = 0.0254720472621175\"\n",
      "[1] \"Run LDpred2-grid...\"\n",
      "[1] \"Run LDpred2-auto...\"\n",
      "Beta file saved in ../../results/gastric_cancer/LDpred2.pst.beta.txt\n",
      "Done! \n",
      "\n"
     ]
    }
   ],
   "source": [
    "# BBJ\n",
    "sumstats_file = \"../../sum_stats_data/gastric_cancer/hum0197.v3.BBJ.GC.v1/gwas.LDpred2.txt\"\n",
    "LDpred2_auto(sumstats_file=sumstats_file,\n",
    "             output_folder=\"../../results/gastric_cancer/\",\n",
    "             output_name=\"LDpred2.pst.beta.txt\")"
   ]
  },
  {
   "cell_type": "code",
   "execution_count": 11,
   "metadata": {},
   "outputs": [
    {
     "name": "stdout",
     "output_type": "stream",
     "text": [
      "Loading summary statistics...\n",
      "Run R code...\n",
      "[1] \"Matching SNPs...\"\n"
     ]
    },
    {
     "name": "stderr",
     "output_type": "stream",
     "text": [
      "R[write to console]: 1,045,669 variants to be matched.\n",
      "\n",
      "R[write to console]: 3 ambiguous SNPs have been removed.\n",
      "\n",
      "R[write to console]: 994,546 variants have been matched; 532 were flipped and 321,197 were reversed.\n",
      "\n"
     ]
    },
    {
     "name": "stdout",
     "output_type": "stream",
     "text": [
      "[1] \"Calculate LD score in chr:\"\n",
      "[1] 1\n",
      "[1] 2\n",
      "[1] 3\n",
      "[1] 4\n",
      "[1] 5\n",
      "[1] 6\n",
      "[1] 7\n",
      "[1] 8\n",
      "[1] 9\n",
      "[1] 10\n",
      "[1] 11\n",
      "[1] 12\n",
      "[1] 13\n",
      "[1] 14\n",
      "[1] 15\n",
      "[1] 16\n",
      "[1] 17\n",
      "[1] 18\n",
      "[1] 19\n",
      "[1] 20\n",
      "[1] 21\n",
      "[1] 22\n",
      "[1] \"ldsc_h2 = 0.00608914255296275\"\n",
      "[1] \"Run LDpred2-grid...\"\n",
      "[1] \"Run LDpred2-auto...\"\n",
      "Beta file saved in ../../results/gastric_cancer/LDpred2.shaprs.BBJ.EUR.pst.beta.txt\n",
      "Done! \n",
      "\n"
     ]
    }
   ],
   "source": [
    "# shaPRS (BBJ+EUR) + LDpred2\n",
    "sumstats_file = \"../../sum_stats_data/gastric_cancer/gwas.BBJ.EUR_shaprs.LDpred2.txt\"\n",
    "LDpred2_auto(sumstats_file=sumstats_file,\n",
    "             output_folder=\"../../results/gastric_cancer/\",\n",
    "             output_name=\"LDpred2.shaprs.BBJ.EUR.pst.beta.txt\")"
   ]
  },
  {
   "cell_type": "markdown",
   "metadata": {},
   "source": [
    "## 4. PD (Parkinson Disease)"
   ]
  },
  {
   "cell_type": "code",
   "execution_count": 12,
   "metadata": {},
   "outputs": [
    {
     "name": "stdout",
     "output_type": "stream",
     "text": [
      "Loading summary statistics...\n",
      "Run R code...\n",
      "[1] \"Matching SNPs...\"\n"
     ]
    },
    {
     "name": "stderr",
     "output_type": "stream",
     "text": [
      "R[write to console]: 125,355 variants to be matched.\n",
      "\n",
      "R[write to console]: 1 ambiguous SNPs have been removed.\n",
      "\n",
      "R[write to console]: 124,213 variants have been matched; 0 were flipped and 38,467 were reversed.\n",
      "\n"
     ]
    },
    {
     "name": "stdout",
     "output_type": "stream",
     "text": [
      "[1] \"Calculate LD score in chr:\"\n",
      "[1] 1\n",
      "[1] 2\n",
      "[1] 3\n",
      "[1] 4\n",
      "[1] 5\n",
      "[1] 6\n",
      "[1] 7\n",
      "[1] 8\n",
      "[1] 9\n",
      "[1] 10\n",
      "[1] 11\n",
      "[1] 12\n",
      "[1] 13\n",
      "[1] 14\n",
      "[1] 15\n",
      "[1] 16\n",
      "[1] 17\n",
      "[1] 18\n",
      "[1] 19\n",
      "[1] 20\n",
      "[1] 21\n",
      "[1] 22\n",
      "[1] \"ldsc_h2 = 0.307659186083534\"\n",
      "[1] \"Run LDpred2-grid...\"\n",
      "[1] \"Run LDpred2-auto...\"\n",
      "Beta file saved in ../../results/pd/LDpred2.pst.beta.txt\n",
      "Done! \n",
      "\n"
     ]
    }
   ],
   "source": [
    "# BBJ\n",
    "sumstats_file = \"../../sum_stats_data/pd/gwas.catalog.EAS.GCST90278092/gwas.LDpred2.txt\"\n",
    "LDpred2_auto(sumstats_file=sumstats_file,\n",
    "             output_folder=\"../../results/pd/\",\n",
    "             output_name='LDpred2.pst.beta.txt')"
   ]
  },
  {
   "cell_type": "code",
   "execution_count": 13,
   "metadata": {},
   "outputs": [
    {
     "name": "stdout",
     "output_type": "stream",
     "text": [
      "Loading summary statistics...\n",
      "Run R code...\n",
      "[1] \"Matching SNPs...\"\n"
     ]
    },
    {
     "name": "stderr",
     "output_type": "stream",
     "text": [
      "R[write to console]: 125,355 variants to be matched.\n",
      "\n",
      "R[write to console]: 1 ambiguous SNPs have been removed.\n",
      "\n",
      "R[write to console]: 124,213 variants have been matched; 0 were flipped and 38,467 were reversed.\n",
      "\n"
     ]
    },
    {
     "name": "stdout",
     "output_type": "stream",
     "text": [
      "[1] \"Calculate LD score in chr:\"\n",
      "[1] 1\n",
      "[1] 2\n",
      "[1] 3\n",
      "[1] 4\n",
      "[1] 5\n",
      "[1] 6\n",
      "[1] 7\n",
      "[1] 8\n",
      "[1] 9\n",
      "[1] 10\n",
      "[1] 11\n",
      "[1] 12\n",
      "[1] 13\n",
      "[1] 14\n",
      "[1] 15\n",
      "[1] 16\n",
      "[1] 17\n",
      "[1] 18\n",
      "[1] 19\n",
      "[1] 20\n",
      "[1] 21\n",
      "[1] 22\n",
      "[1] \"ldsc_h2 = 0.00186726727756638\"\n",
      "[1] \"Run LDpred2-grid...\"\n",
      "[1] \"Run LDpred2-auto...\"\n",
      "Beta file saved in ../../results/pd/LDpred2.shaprs.BBJ.EUR.pst.beta.txt\n",
      "Done! \n",
      "\n"
     ]
    }
   ],
   "source": [
    "# shaPRS (BBJ+EUR) + LDpred2\n",
    "sumstats_file = \"../../sum_stats_data/pd/gwas.BBJ.EUR_shaprs.LDpred2.txt\"\n",
    "LDpred2_auto(sumstats_file=sumstats_file,\n",
    "             output_folder=\"../../results/pd/\",\n",
    "             output_name='LDpred2.shaprs.BBJ.EUR.pst.beta.txt')"
   ]
  },
  {
   "cell_type": "markdown",
   "metadata": {},
   "source": [
    "## 5. CKD (Chronic Kidney Disease)"
   ]
  },
  {
   "cell_type": "code",
   "execution_count": 14,
   "metadata": {},
   "outputs": [
    {
     "name": "stdout",
     "output_type": "stream",
     "text": [
      "Loading summary statistics...\n",
      "Run R code...\n",
      "[1] \"Matching SNPs...\"\n"
     ]
    },
    {
     "name": "stderr",
     "output_type": "stream",
     "text": [
      "R[write to console]: 1,048,969 variants to be matched.\n",
      "\n",
      "R[write to console]: 4 ambiguous SNPs have been removed.\n",
      "\n",
      "R[write to console]: 997,641 variants have been matched; 532 were flipped and 322,193 were reversed.\n",
      "\n"
     ]
    },
    {
     "name": "stdout",
     "output_type": "stream",
     "text": [
      "[1] \"Calculate LD score in chr:\"\n",
      "[1] 1\n",
      "[1] 2\n",
      "[1] 3\n",
      "[1] 4\n",
      "[1] 5\n",
      "[1] 6\n",
      "[1] 7\n",
      "[1] 8\n",
      "[1] 9\n",
      "[1] 10\n",
      "[1] 11\n",
      "[1] 12\n",
      "[1] 13\n",
      "[1] 14\n",
      "[1] 15\n",
      "[1] 16\n",
      "[1] 17\n",
      "[1] 18\n",
      "[1] 19\n",
      "[1] 20\n",
      "[1] 21\n",
      "[1] 22\n",
      "[1] \"ldsc_h2 = 0.00504564158627518\"\n",
      "[1] \"Run LDpred2-grid...\"\n",
      "[1] \"Run LDpred2-auto...\"\n",
      "Beta file saved in ../../results/ckd/LDpred2.pst.beta.txt\n",
      "Done! \n",
      "\n"
     ]
    }
   ],
   "source": [
    "# BBJ\n",
    "sumstats_file = \"../../sum_stats_data/ckd/hum0197.v3.BBJ.CRF.v1/gwas.LDpred2.txt\"\n",
    "LDpred2_auto(sumstats_file=sumstats_file,\n",
    "             output_folder=\"../../results/ckd/\",\n",
    "             output_name='LDpred2.pst.beta.txt')"
   ]
  },
  {
   "cell_type": "code",
   "execution_count": 15,
   "metadata": {},
   "outputs": [
    {
     "name": "stdout",
     "output_type": "stream",
     "text": [
      "Loading summary statistics...\n",
      "Run R code...\n",
      "[1] \"Matching SNPs...\"\n"
     ]
    },
    {
     "name": "stderr",
     "output_type": "stream",
     "text": [
      "R[write to console]: 1,048,969 variants to be matched.\n",
      "\n",
      "R[write to console]: 4 ambiguous SNPs have been removed.\n",
      "\n",
      "R[write to console]: 997,641 variants have been matched; 532 were flipped and 322,193 were reversed.\n",
      "\n"
     ]
    },
    {
     "name": "stdout",
     "output_type": "stream",
     "text": [
      "[1] \"Calculate LD score in chr:\"\n",
      "[1] 1\n",
      "[1] 2\n",
      "[1] 3\n",
      "[1] 4\n",
      "[1] 5\n",
      "[1] 6\n",
      "[1] 7\n",
      "[1] 8\n",
      "[1] 9\n",
      "[1] 10\n",
      "[1] 11\n",
      "[1] 12\n",
      "[1] 13\n",
      "[1] 14\n",
      "[1] 15\n",
      "[1] 16\n",
      "[1] 17\n",
      "[1] 18\n",
      "[1] 19\n",
      "[1] 20\n",
      "[1] 21\n",
      "[1] 22\n",
      "[1] \"ldsc_h2 = 0.00564195842138073\"\n",
      "[1] \"Run LDpred2-grid...\"\n",
      "[1] \"Run LDpred2-auto...\"\n",
      "Beta file saved in ../../results/ckd/LDpred2.shaprs.BBJ.EUR.pst.beta.txt\n",
      "Done! \n",
      "\n"
     ]
    }
   ],
   "source": [
    "# shaPRS (BBJ+EUR) + LDpred2\n",
    "sumstats_file = \"../../sum_stats_data/ckd/gwas.BBJ.EUR_shaprs.LDpred2.txt\"\n",
    "LDpred2_auto(sumstats_file=sumstats_file,\n",
    "             output_folder=\"../../results/ckd/\",\n",
    "             output_name='LDpred2.shaprs.BBJ.EUR.pst.beta.txt')"
   ]
  },
  {
   "cell_type": "markdown",
   "metadata": {},
   "source": [
    "## 6. Osteoporosis"
   ]
  },
  {
   "cell_type": "code",
   "execution_count": 16,
   "metadata": {},
   "outputs": [
    {
     "name": "stdout",
     "output_type": "stream",
     "text": [
      "Loading summary statistics...\n",
      "Run R code...\n",
      "[1] \"Matching SNPs...\"\n"
     ]
    },
    {
     "name": "stderr",
     "output_type": "stream",
     "text": [
      "R[write to console]: 1,048,958 variants to be matched.\n",
      "\n",
      "R[write to console]: 4 ambiguous SNPs have been removed.\n",
      "\n",
      "R[write to console]: 997,607 variants have been matched; 532 were flipped and 322,183 were reversed.\n",
      "\n"
     ]
    },
    {
     "name": "stdout",
     "output_type": "stream",
     "text": [
      "[1] \"Calculate LD score in chr:\"\n",
      "[1] 1\n",
      "[1] 2\n",
      "[1] 3\n",
      "[1] 4\n",
      "[1] 5\n",
      "[1] 6\n",
      "[1] 7\n",
      "[1] 8\n",
      "[1] 9\n",
      "[1] 10\n",
      "[1] 11\n",
      "[1] 12\n",
      "[1] 13\n",
      "[1] 14\n",
      "[1] 15\n",
      "[1] 16\n",
      "[1] 17\n",
      "[1] 18\n",
      "[1] 19\n",
      "[1] 20\n",
      "[1] 21\n",
      "[1] 22\n",
      "[1] \"ldsc_h2 = 0.0197243076031525\"\n",
      "[1] \"Run LDpred2-grid...\"\n",
      "[1] \"Run LDpred2-auto...\"\n",
      "Beta file saved in ../../results/osteoporosis/LDpred2.pst.beta.txt\n",
      "Done! \n",
      "\n"
     ]
    }
   ],
   "source": [
    "# BBJ\n",
    "sumstats_file = \"../../sum_stats_data/osteoporosis/hum0197.v3.BBJ.OP.v1/gwas.LDpred2.txt\"\n",
    "LDpred2_auto(sumstats_file=sumstats_file,\n",
    "             output_folder=\"../../results/osteoporosis/\",\n",
    "             output_name='LDpred2.pst.beta.txt')"
   ]
  },
  {
   "cell_type": "code",
   "execution_count": 17,
   "metadata": {},
   "outputs": [
    {
     "name": "stdout",
     "output_type": "stream",
     "text": [
      "Loading summary statistics...\n",
      "Run R code...\n",
      "[1] \"Matching SNPs...\"\n"
     ]
    },
    {
     "name": "stderr",
     "output_type": "stream",
     "text": [
      "R[write to console]: 1,048,958 variants to be matched.\n",
      "\n",
      "R[write to console]: 4 ambiguous SNPs have been removed.\n",
      "\n",
      "R[write to console]: 997,607 variants have been matched; 532 were flipped and 322,183 were reversed.\n",
      "\n"
     ]
    },
    {
     "name": "stdout",
     "output_type": "stream",
     "text": [
      "[1] \"Calculate LD score in chr:\"\n",
      "[1] 1\n",
      "[1] 2\n",
      "[1] 3\n",
      "[1] 4\n",
      "[1] 5\n",
      "[1] 6\n",
      "[1] 7\n",
      "[1] 8\n",
      "[1] 9\n",
      "[1] 10\n",
      "[1] 11\n",
      "[1] 12\n",
      "[1] 13\n",
      "[1] 14\n",
      "[1] 15\n",
      "[1] 16\n",
      "[1] 17\n",
      "[1] 18\n",
      "[1] 19\n",
      "[1] 20\n",
      "[1] 21\n",
      "[1] 22\n",
      "[1] \"ldsc_h2 = 0.00637127660252187\"\n",
      "[1] \"Run LDpred2-grid...\"\n",
      "[1] \"Run LDpred2-auto...\"\n",
      "Beta file saved in ../../results/osteoporosis/LDpred2.shaprs.BBJ.EUR.pst.beta.txt\n",
      "Done! \n",
      "\n"
     ]
    }
   ],
   "source": [
    "# shaPRS (BBJ+EUR) + LDpred2\n",
    "sumstats_file = \"../../sum_stats_data/osteoporosis/gwas.BBJ.EUR_shaprs.LDpred2.txt\"\n",
    "LDpred2_auto(sumstats_file=sumstats_file,\n",
    "             output_folder=\"../../results/osteoporosis/\",\n",
    "             output_name='LDpred2.shaprs.BBJ.EUR.pst.beta.txt')"
   ]
  },
  {
   "cell_type": "markdown",
   "metadata": {},
   "source": [
    "## 7. CAD (Coronary Artery Disease)"
   ]
  },
  {
   "cell_type": "code",
   "execution_count": 18,
   "metadata": {},
   "outputs": [
    {
     "name": "stdout",
     "output_type": "stream",
     "text": [
      "Loading summary statistics...\n",
      "Run R code...\n",
      "[1] \"Matching SNPs...\"\n"
     ]
    },
    {
     "name": "stderr",
     "output_type": "stream",
     "text": [
      "R[write to console]: 1,019,890 variants to be matched.\n",
      "\n",
      "R[write to console]: 4 ambiguous SNPs have been removed.\n",
      "\n",
      "R[write to console]: 985,387 variants have been matched; 489 were flipped and 320,237 were reversed.\n",
      "\n"
     ]
    },
    {
     "name": "stdout",
     "output_type": "stream",
     "text": [
      "[1] \"Calculate LD score in chr:\"\n",
      "[1] 1\n",
      "[1] 2\n",
      "[1] 3\n",
      "[1] 4\n",
      "[1] 5\n",
      "[1] 6\n",
      "[1] 7\n",
      "[1] 8\n",
      "[1] 9\n",
      "[1] 10\n",
      "[1] 11\n",
      "[1] 12\n",
      "[1] 13\n",
      "[1] 14\n",
      "[1] 15\n",
      "[1] 16\n",
      "[1] 17\n",
      "[1] 18\n",
      "[1] 19\n",
      "[1] 20\n",
      "[1] 21\n",
      "[1] 22\n",
      "[1] \"ldsc_h2 = 0.0821971671199656\"\n",
      "[1] \"Run LDpred2-grid...\"\n",
      "[1] \"Run LDpred2-auto...\"\n",
      "Beta file saved in ../../results/cad/LDpred2.pst.beta.txt\n",
      "Done! \n",
      "\n"
     ]
    }
   ],
   "source": [
    "# BBJ\n",
    "sumstats_file = \"../../sum_stats_data/cad/gwas.BBJ.CAD/gwas.LDpred2.txt\"\n",
    "LDpred2_auto(sumstats_file=sumstats_file,\n",
    "             output_folder=\"../../results/cad/\",\n",
    "             output_name='LDpred2.pst.beta.txt')"
   ]
  },
  {
   "cell_type": "code",
   "execution_count": 19,
   "metadata": {},
   "outputs": [
    {
     "name": "stdout",
     "output_type": "stream",
     "text": [
      "Loading summary statistics...\n",
      "Run R code...\n",
      "[1] \"Matching SNPs...\"\n"
     ]
    },
    {
     "name": "stderr",
     "output_type": "stream",
     "text": [
      "R[write to console]: 1,019,890 variants to be matched.\n",
      "\n",
      "R[write to console]: 4 ambiguous SNPs have been removed.\n",
      "\n",
      "R[write to console]: 985,387 variants have been matched; 489 were flipped and 320,237 were reversed.\n",
      "\n"
     ]
    },
    {
     "name": "stdout",
     "output_type": "stream",
     "text": [
      "[1] \"Calculate LD score in chr:\"\n",
      "[1] 1\n",
      "[1] 2\n",
      "[1] 3\n",
      "[1] 4\n",
      "[1] 5\n",
      "[1] 6\n",
      "[1] 7\n",
      "[1] 8\n",
      "[1] 9\n",
      "[1] 10\n",
      "[1] 11\n",
      "[1] 12\n",
      "[1] 13\n",
      "[1] 14\n",
      "[1] 15\n",
      "[1] 16\n",
      "[1] 17\n",
      "[1] 18\n",
      "[1] 19\n",
      "[1] 20\n",
      "[1] 21\n",
      "[1] 22\n",
      "[1] \"ldsc_h2 = 0.0408575660316878\"\n",
      "[1] \"Run LDpred2-grid...\"\n",
      "[1] \"Run LDpred2-auto...\"\n",
      "Beta file saved in ../../results/cad/LDpred2.shaprs.BBJ.EUR.pst.beta.txt\n",
      "Done! \n",
      "\n"
     ]
    }
   ],
   "source": [
    "# shaPRS (BBJ+EUR) + LDpred2\n",
    "sumstats_file = \"../../sum_stats_data/cad/gwas.BBJ.EUR_shaprs.LDpred2.txt\"\n",
    "LDpred2_auto(sumstats_file=sumstats_file,\n",
    "             output_folder=\"../../results/cad/\",\n",
    "             output_name='LDpred2.shaprs.BBJ.EUR.pst.beta.txt')"
   ]
  },
  {
   "cell_type": "markdown",
   "metadata": {},
   "source": [
    "## 8. Hyperlipidemia"
   ]
  },
  {
   "cell_type": "code",
   "execution_count": 20,
   "metadata": {},
   "outputs": [
    {
     "name": "stdout",
     "output_type": "stream",
     "text": [
      "Loading summary statistics...\n",
      "Run R code...\n",
      "[1] \"Matching SNPs...\"\n"
     ]
    },
    {
     "name": "stderr",
     "output_type": "stream",
     "text": [
      "R[write to console]: 265,353 variants to be matched.\n",
      "\n",
      "R[write to console]: 0 ambiguous SNPs have been removed.\n",
      "\n",
      "R[write to console]: 264,786 variants have been matched; 0 were flipped and 90,468 were reversed.\n",
      "\n"
     ]
    },
    {
     "name": "stdout",
     "output_type": "stream",
     "text": [
      "[1] \"Calculate LD score in chr:\"\n",
      "[1] 1\n",
      "[1] 2\n",
      "[1] 3\n",
      "[1] 4\n",
      "[1] 5\n",
      "[1] 6\n",
      "[1] 7\n",
      "[1] 8\n",
      "[1] 9\n",
      "[1] 10\n",
      "[1] 11\n",
      "[1] 12\n",
      "[1] 13\n",
      "[1] 14\n",
      "[1] 15\n",
      "[1] 16\n",
      "[1] 17\n",
      "[1] 18\n",
      "[1] 19\n",
      "[1] 20\n",
      "[1] 21\n",
      "[1] 22\n",
      "[1] \"ldsc_h2 = 0.378578622419308\"\n",
      "[1] \"Run LDpred2-grid...\"\n",
      "[1] \"Run LDpred2-auto...\"\n",
      "Beta file saved in ../../results/hyperlipidemia/LDpred2.pst.beta.txt\n",
      "Done! \n",
      "\n"
     ]
    }
   ],
   "source": [
    "# BBJ\n",
    "sumstats_file = \"../../sum_stats_data/hyperlipidemia/gwas.catalog.EAS.GCST90090994/gwas.LDpred2.txt\"\n",
    "LDpred2_auto(sumstats_file=sumstats_file,\n",
    "             output_folder=\"../../results/hyperlipidemia/\",\n",
    "             output_name='LDpred2.pst.beta.txt')"
   ]
  },
  {
   "cell_type": "code",
   "execution_count": 21,
   "metadata": {},
   "outputs": [
    {
     "name": "stdout",
     "output_type": "stream",
     "text": [
      "Loading summary statistics...\n",
      "Run R code...\n",
      "[1] \"Matching SNPs...\"\n"
     ]
    },
    {
     "name": "stderr",
     "output_type": "stream",
     "text": [
      "R[write to console]: 265,353 variants to be matched.\n",
      "\n",
      "R[write to console]: 0 ambiguous SNPs have been removed.\n",
      "\n",
      "R[write to console]: 264,786 variants have been matched; 0 were flipped and 90,468 were reversed.\n",
      "\n"
     ]
    },
    {
     "name": "stdout",
     "output_type": "stream",
     "text": [
      "[1] \"Calculate LD score in chr:\"\n",
      "[1] 1\n",
      "[1] 2\n",
      "[1] 3\n",
      "[1] 4\n",
      "[1] 5\n",
      "[1] 6\n",
      "[1] 7\n",
      "[1] 8\n",
      "[1] 9\n",
      "[1] 10\n",
      "[1] 11\n",
      "[1] 12\n",
      "[1] 13\n",
      "[1] 14\n",
      "[1] 15\n",
      "[1] 16\n",
      "[1] 17\n",
      "[1] 18\n",
      "[1] 19\n",
      "[1] 20\n",
      "[1] 21\n",
      "[1] 22\n",
      "[1] \"ldsc_h2 = 0.0519844144876526\"\n",
      "[1] \"Run LDpred2-grid...\"\n",
      "[1] \"Run LDpred2-auto...\"\n",
      "Beta file saved in ../../results/hyperlipidemia/LDpred2.shaprs.BBJ.EUR.pst.beta.txt\n",
      "Done! \n",
      "\n"
     ]
    }
   ],
   "source": [
    "# shaPRS (BBJ+EUR) + LDpred2\n",
    "sumstats_file = \"../../sum_stats_data/hyperlipidemia/gwas.BBJ.EUR_shaprs.LDpred2.txt\"\n",
    "LDpred2_auto(sumstats_file=sumstats_file,\n",
    "             output_folder=\"../../results/hyperlipidemia/\",\n",
    "             output_name='LDpred2.shaprs.BBJ.EUR.pst.beta.txt')"
   ]
  },
  {
   "cell_type": "markdown",
   "metadata": {},
   "source": [
    "## 9. Osteoarthritis"
   ]
  },
  {
   "cell_type": "code",
   "execution_count": 22,
   "metadata": {},
   "outputs": [
    {
     "name": "stdout",
     "output_type": "stream",
     "text": [
      "Loading summary statistics...\n",
      "Run R code...\n",
      "[1] \"Matching SNPs...\"\n"
     ]
    },
    {
     "name": "stderr",
     "output_type": "stream",
     "text": [
      "R[write to console]: 1,288,243 variants to be matched.\n",
      "\n",
      "R[write to console]: 0 ambiguous SNPs have been removed.\n",
      "\n",
      "R[write to console]: 1,024,280 variants have been matched; 723 were flipped and 16,094 were reversed.\n",
      "\n"
     ]
    },
    {
     "name": "stdout",
     "output_type": "stream",
     "text": [
      "[1] \"Calculate LD score in chr:\"\n",
      "[1] 1\n",
      "[1] 2\n",
      "[1] 3\n",
      "[1] 4\n",
      "[1] 5\n",
      "[1] 6\n",
      "[1] 7\n",
      "[1] 8\n",
      "[1] 9\n",
      "[1] 10\n",
      "[1] 11\n",
      "[1] 12\n",
      "[1] 13\n",
      "[1] 14\n",
      "[1] 15\n",
      "[1] 16\n",
      "[1] 17\n",
      "[1] 18\n",
      "[1] 19\n",
      "[1] 20\n",
      "[1] 21\n",
      "[1] 22\n",
      "[1] \"ldsc_h2 = 0.715925920377519\"\n",
      "[1] \"Run LDpred2-grid...\"\n",
      "[1] \"Run LDpred2-auto...\"\n",
      "Beta file saved in ../../results/osteoarthritis/LDpred2.pst.beta.txt\n",
      "Done! \n",
      "\n"
     ]
    }
   ],
   "source": [
    "# BBJ\n",
    "sumstats_file = \"../../sum_stats_data/osteoarthritis/gwas.catalog.EAS.GCST90134281/gwas.LDpred2.txt\"\n",
    "LDpred2_auto(sumstats_file=sumstats_file,\n",
    "             output_folder=\"../../results/osteoarthritis/\",\n",
    "             output_name='LDpred2.pst.beta.txt')"
   ]
  },
  {
   "cell_type": "code",
   "execution_count": 23,
   "metadata": {},
   "outputs": [
    {
     "name": "stdout",
     "output_type": "stream",
     "text": [
      "Loading summary statistics...\n",
      "Run R code...\n",
      "[1] \"Matching SNPs...\"\n"
     ]
    },
    {
     "name": "stderr",
     "output_type": "stream",
     "text": [
      "R[write to console]: 1,288,243 variants to be matched.\n",
      "\n",
      "R[write to console]: 0 ambiguous SNPs have been removed.\n",
      "\n",
      "R[write to console]: 1,024,280 variants have been matched; 723 were flipped and 16,094 were reversed.\n",
      "\n"
     ]
    },
    {
     "name": "stdout",
     "output_type": "stream",
     "text": [
      "[1] \"Calculate LD score in chr:\"\n",
      "[1] 1\n",
      "[1] 2\n",
      "[1] 3\n",
      "[1] 4\n",
      "[1] 5\n",
      "[1] 6\n",
      "[1] 7\n",
      "[1] 8\n",
      "[1] 9\n",
      "[1] 10\n",
      "[1] 11\n",
      "[1] 12\n",
      "[1] 13\n",
      "[1] 14\n",
      "[1] 15\n",
      "[1] 16\n",
      "[1] 17\n",
      "[1] 18\n",
      "[1] 19\n",
      "[1] 20\n",
      "[1] 21\n",
      "[1] 22\n",
      "[1] \"ldsc_h2 = 0.0520141584152062\"\n",
      "[1] \"Run LDpred2-grid...\"\n",
      "[1] \"Run LDpred2-auto...\"\n",
      "Beta file saved in ../../results/osteoarthritis/LDpred2.shaprs.BBJ.EUR.pst.beta.txt\n",
      "Done! \n",
      "\n"
     ]
    }
   ],
   "source": [
    "# shaPRS (BBJ+EUR) + LDpred2\n",
    "sumstats_file = \"../../sum_stats_data/osteoarthritis/gwas.BBJ.EUR_shaprs.LDpred2.txt\"\n",
    "LDpred2_auto(sumstats_file=sumstats_file,\n",
    "             output_folder=\"../../results/osteoarthritis/\",\n",
    "             output_name='LDpred2.shaprs.BBJ.EUR.pst.beta.txt')"
   ]
  }
 ],
 "metadata": {
  "kernelspec": {
   "display_name": "vgp",
   "language": "python",
   "name": "python3"
  },
  "language_info": {
   "codemirror_mode": {
    "name": "ipython",
    "version": 3
   },
   "file_extension": ".py",
   "mimetype": "text/x-python",
   "name": "python",
   "nbconvert_exporter": "python",
   "pygments_lexer": "ipython3",
   "version": "3.11.9"
  }
 },
 "nbformat": 4,
 "nbformat_minor": 2
}
