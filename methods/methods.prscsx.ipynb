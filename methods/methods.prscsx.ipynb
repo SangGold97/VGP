{
 "cells": [
  {
   "cell_type": "code",
   "execution_count": null,
   "metadata": {},
   "outputs": [],
   "source": [
    "import os\n",
    "os.environ['MKL_NUM_THREADS'] = '1'\n",
    "os.environ['NUMEXPR_NUM_THREADS'] = '1'\n",
    "os.environ['OMP_NUM_THREADS'] = '1'"
   ]
  },
  {
   "cell_type": "code",
   "execution_count": null,
   "metadata": {},
   "outputs": [],
   "source": [
    "import scipy\n",
    "import numpy as np\n",
    "import pandas as pd\n",
    "import matplotlib.pyplot as plt\n",
    "import seaborn as sns\n",
    "import warnings\n",
    "warnings.filterwarnings('ignore')\n",
    "from sklearn.metrics import roc_auc_score"
   ]
  },
  {
   "cell_type": "code",
   "execution_count": null,
   "metadata": {},
   "outputs": [],
   "source": [
    "# PRS-CSx function\n",
    "def prs_csx(src='PRScsx/PRScsx.py',\n",
    "            ref_dir=None,\n",
    "            bim_prefix=None,\n",
    "            sst_file=None,\n",
    "            n_gwas=None, # example: '79550,257730'\n",
    "            pop='EAS,EUR',\n",
    "            phi=1e-2,\n",
    "            chrom=None,\n",
    "            meta=True,\n",
    "            seed=68,\n",
    "            out_dir=None,\n",
    "            out_name=None):\n",
    "\n",
    "    os.system(f'python {src} --ref_dir={ref_dir} \\\n",
    "                            --bim_prefix={bim_prefix} \\\n",
    "                            --sst_file={sst_file} \\\n",
    "                            --n_gwas={n_gwas} \\\n",
    "                            --pop={pop} \\\n",
    "                            --phi={phi} \\\n",
    "                            --chrom={chrom} \\\n",
    "                            --meta={meta} \\\n",
    "                            --seed={seed} \\\n",
    "                            --out_dir={out_dir} \\\n",
    "                            --out_name={out_name}')\n",
    "\n",
    "def concat_prscsx_output(out_dir=None,\n",
    "                        out_name=None,\n",
    "                        pop='META'):\n",
    "    res = pd.DataFrame([], columns=['CHROM', 'SNP', 'POS', 'A1', 'A2', 'pst_eff'])\n",
    "    for f in os.listdir(out_dir):\n",
    "        if f.startswith(out_name) and ('pst_eff' in f) and (pop in f):\n",
    "            file_path = os.path.join(out_dir, f)\n",
    "            temp = pd.read_table(file_path, header=None)\n",
    "            temp.columns = ['CHROM', 'SNP', 'POS', 'A1', 'A2', 'pst_eff']\n",
    "            res = pd.concat([res, temp], axis=0)\n",
    "    return res.sort_values(by=['CHROM', 'POS'], ignore_index=True)\n",
    "\n",
    "def prscsx_score(target_prefix=None,\n",
    "                out_dir=None,\n",
    "                out_name=None,\n",
    "                pop='META'):\n",
    "    prscsx_output = concat_prscsx_output(out_dir=out_dir, out_name=out_name, pop=pop)\n",
    "    file_path = os.path.join(out_dir, out_name + '_' + pop + '.concat.txt')\n",
    "    prscsx_output.to_csv(file_path, sep='\\t', header=None, index=False)\n",
    "    os.system(f'plink --bfile {target_prefix} \\\n",
    "                        --allow-no-sex \\\n",
    "                        --score {file_path} 2 4 6 \\\n",
    "                        --out {file_path[:-11]}')\n",
    "    res = pd.read_table(f'{file_path[:-11]}.profile', sep='\\s+')\n",
    "    m = np.mean(res['SCORE'])\n",
    "    std = np.std(res['SCORE'])\n",
    "    res.loc[:, 'SCORE'] = (res['SCORE'] - m) / std\n",
    "    print('AUC score =', roc_auc_score(res['PHENO'], res['SCORE']))\n",
    "    sns.histplot(data=res, x='SCORE', hue='PHENO', multiple=\"stack\", kde=True)\n",
    "    plt.show()"
   ]
  }
 ],
 "metadata": {
  "kernelspec": {
   "display_name": "vgp",
   "language": "python",
   "name": "python3"
  },
  "language_info": {
   "codemirror_mode": {
    "name": "ipython",
    "version": 3
   },
   "file_extension": ".py",
   "mimetype": "text/x-python",
   "name": "python",
   "nbconvert_exporter": "python",
   "pygments_lexer": "ipython3",
   "version": "3.11.9"
  }
 },
 "nbformat": 4,
 "nbformat_minor": 2
}
