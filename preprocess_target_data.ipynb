{
 "cells": [
  {
   "cell_type": "code",
   "execution_count": null,
   "metadata": {},
   "outputs": [],
   "source": [
    "import os\n",
    "import pandas as pd\n",
    "import tqdm\n",
    "import warnings\n",
    "warnings.filterwarnings('ignore')"
   ]
  },
  {
   "cell_type": "markdown",
   "metadata": {},
   "source": [
    "# Target data preprocess:"
   ]
  },
  {
   "cell_type": "code",
   "execution_count": null,
   "metadata": {},
   "outputs": [],
   "source": [
    "# Define working directories and parameters\n",
    "CASE_WD = \"./target_data/case_data/imputed/\"\n",
    "CONTROL_WD = \"./target_data/control_data/\"\n",
    "NUM_THREADS = 4\n",
    "R2_THRESHOLD = 0.8\n",
    "IMPUTED_SUFFIX_FILE = \"rename.QC.impute.subset.vcf.gz\""
   ]
  },
  {
   "cell_type": "markdown",
   "metadata": {},
   "source": [
    "### 1. Filter:"
   ]
  },
  {
   "cell_type": "code",
   "execution_count": null,
   "metadata": {},
   "outputs": [
    {
     "name": "stderr",
     "output_type": "stream",
     "text": [
      "  0%|          | 0/89 [00:00<?, ?it/s]"
     ]
    },
    {
     "name": "stdout",
     "output_type": "stream",
     "text": [
      "Processing file:  5509954486775080525312.rename.QC.impute.subset.vcf.gz\n"
     ]
    },
    {
     "name": "stderr",
     "output_type": "stream",
     "text": [
      "Lines   total/split/realigned/skipped:\t7822801/0/0/0\n",
      "  3%|▎         | 3/89 [01:10<33:51, 23.62s/it]"
     ]
    },
    {
     "name": "stdout",
     "output_type": "stream",
     "text": [
      "Processing file:  5509954480826041825331.rename.QC.impute.subset.vcf.gz\n"
     ]
    },
    {
     "name": "stderr",
     "output_type": "stream",
     "text": [
      "Lines   total/split/realigned/skipped:\t7799807/0/0/0\n",
      "  7%|▋         | 6/89 [04:10<1:02:07, 44.91s/it]"
     ]
    },
    {
     "name": "stdout",
     "output_type": "stream",
     "text": [
      "Processing file:  5509954486775080525311.rename.QC.impute.subset.vcf.gz\n"
     ]
    },
    {
     "name": "stderr",
     "output_type": "stream",
     "text": [
      "Lines   total/split/realigned/skipped:\t7703931/0/0/0\n",
      " 17%|█▋        | 15/89 [04:42<18:51, 15.29s/it] "
     ]
    },
    {
     "name": "stdout",
     "output_type": "stream",
     "text": [
      "Processing file:  5509954480025040325902.rename.QC.impute.subset.vcf.gz\n"
     ]
    },
    {
     "name": "stderr",
     "output_type": "stream",
     "text": [
      "Lines   total/split/realigned/skipped:\t7799497/0/0/0\n",
      " 18%|█▊        | 16/89 [06:35<30:48, 25.32s/it]"
     ]
    },
    {
     "name": "stdout",
     "output_type": "stream",
     "text": [
      "Processing file:  5509954489381091425336.rename.QC.impute.subset.vcf.gz\n"
     ]
    },
    {
     "name": "stderr",
     "output_type": "stream",
     "text": [
      "Lines   total/split/realigned/skipped:\t7830988/0/0/0\n",
      " 19%|█▉        | 17/89 [07:32<35:09, 29.30s/it]"
     ]
    },
    {
     "name": "stdout",
     "output_type": "stream",
     "text": [
      "Processing file:  5509954486775080525303.rename.QC.impute.subset.vcf.gz\n"
     ]
    },
    {
     "name": "stderr",
     "output_type": "stream",
     "text": [
      "Lines   total/split/realigned/skipped:\t7612297/0/0/0\n",
      " 27%|██▋       | 24/89 [08:15<17:42, 16.35s/it]"
     ]
    },
    {
     "name": "stdout",
     "output_type": "stream",
     "text": [
      "Processing file:  5509954480025040325904.rename.QC.impute.subset.vcf.gz\n"
     ]
    },
    {
     "name": "stderr",
     "output_type": "stream",
     "text": [
      "Lines   total/split/realigned/skipped:\t7848915/0/0/0\n",
      " 28%|██▊       | 25/89 [09:21<22:54, 21.48s/it]"
     ]
    },
    {
     "name": "stdout",
     "output_type": "stream",
     "text": [
      "Processing file:  5509954480027040325657.rename.QC.impute.subset.vcf.gz\n"
     ]
    },
    {
     "name": "stderr",
     "output_type": "stream",
     "text": [
      "Lines   total/split/realigned/skipped:\t7762689/0/0/0\n",
      " 29%|██▉       | 26/89 [09:53<23:56, 22.80s/it]"
     ]
    },
    {
     "name": "stdout",
     "output_type": "stream",
     "text": [
      "Processing file:  5509954480026032225595.rename.QC.impute.subset.vcf.gz\n"
     ]
    },
    {
     "name": "stderr",
     "output_type": "stream",
     "text": [
      "Lines   total/split/realigned/skipped:\t7768536/0/0/0\n",
      " 36%|███▌      | 32/89 [10:46<14:42, 15.48s/it]"
     ]
    },
    {
     "name": "stdout",
     "output_type": "stream",
     "text": [
      "Processing file:  5509954480026032225596.rename.QC.impute.subset.vcf.gz\n"
     ]
    },
    {
     "name": "stderr",
     "output_type": "stream",
     "text": [
      "Lines   total/split/realigned/skipped:\t7843699/0/0/0\n",
      " 44%|████▍     | 39/89 [11:19<08:44, 10.49s/it]"
     ]
    },
    {
     "name": "stdout",
     "output_type": "stream",
     "text": [
      "Processing file:  5509954480826041825327.rename.QC.impute.subset.vcf.gz\n"
     ]
    },
    {
     "name": "stderr",
     "output_type": "stream",
     "text": [
      "Lines   total/split/realigned/skipped:\t8040696/0/0/0\n",
      " 47%|████▋     | 42/89 [12:31<10:34, 13.49s/it]"
     ]
    },
    {
     "name": "stdout",
     "output_type": "stream",
     "text": [
      "Processing file:  5509954486775080525310.rename.QC.impute.subset.vcf.gz\n"
     ]
    },
    {
     "name": "stderr",
     "output_type": "stream",
     "text": [
      "Lines   total/split/realigned/skipped:\t7682626/0/0/0\n",
      " 51%|█████     | 45/89 [13:50<12:07, 16.54s/it]"
     ]
    },
    {
     "name": "stdout",
     "output_type": "stream",
     "text": [
      "Processing file:  5509954488340082625308.rename.QC.impute.subset.vcf.gz\n"
     ]
    },
    {
     "name": "stderr",
     "output_type": "stream",
     "text": [
      "Lines   total/split/realigned/skipped:\t7881572/0/0/0\n",
      " 54%|█████▍    | 48/89 [15:00<12:30, 18.29s/it]"
     ]
    },
    {
     "name": "stdout",
     "output_type": "stream",
     "text": [
      "Processing file:  5509954486775080525306_1.rename.QC.impute.subset.vcf.gz\n"
     ]
    },
    {
     "name": "stderr",
     "output_type": "stream",
     "text": [
      "Lines   total/split/realigned/skipped:\t7777806/0/0/0\n",
      " 55%|█████▌    | 49/89 [18:06<24:17, 36.44s/it]"
     ]
    },
    {
     "name": "stdout",
     "output_type": "stream",
     "text": [
      "Processing file:  5509954480025040325903.rename.QC.impute.subset.vcf.gz\n"
     ]
    },
    {
     "name": "stderr",
     "output_type": "stream",
     "text": [
      "Lines   total/split/realigned/skipped:\t7798857/0/0/0\n",
      " 56%|█████▌    | 50/89 [20:12<31:33, 48.56s/it]"
     ]
    },
    {
     "name": "stdout",
     "output_type": "stream",
     "text": [
      "Processing file:  5509954480027040325663.rename.QC.impute.subset.vcf.gz\n"
     ]
    },
    {
     "name": "stderr",
     "output_type": "stream",
     "text": [
      "Lines   total/split/realigned/skipped:\t7745580/0/0/0\n",
      " 57%|█████▋    | 51/89 [21:14<32:05, 50.68s/it]"
     ]
    },
    {
     "name": "stdout",
     "output_type": "stream",
     "text": [
      "Processing file:  5509954478880032225457.rename.QC.impute.subset.vcf.gz\n"
     ]
    },
    {
     "name": "stderr",
     "output_type": "stream",
     "text": [
      "Lines   total/split/realigned/skipped:\t7650101/0/0/0\n",
      " 62%|██████▏   | 55/89 [23:39<24:50, 43.83s/it]"
     ]
    },
    {
     "name": "stdout",
     "output_type": "stream",
     "text": [
      "Processing file:  5509954489381091425337.rename.QC.impute.subset.vcf.gz\n"
     ]
    },
    {
     "name": "stderr",
     "output_type": "stream",
     "text": [
      "Lines   total/split/realigned/skipped:\t7849947/0/0/0\n",
      " 64%|██████▍   | 57/89 [24:34<21:06, 39.59s/it]"
     ]
    },
    {
     "name": "stdout",
     "output_type": "stream",
     "text": [
      "Processing file:  5509954489381091425330.rename.QC.impute.subset.vcf.gz\n"
     ]
    },
    {
     "name": "stderr",
     "output_type": "stream",
     "text": [
      "Lines   total/split/realigned/skipped:\t7776007/0/0/0\n",
      " 65%|██████▌   | 58/89 [25:32<21:57, 42.49s/it]"
     ]
    },
    {
     "name": "stdout",
     "output_type": "stream",
     "text": [
      "Processing file:  5509954486775080525306.rename.QC.impute.subset.vcf.gz\n"
     ]
    },
    {
     "name": "stderr",
     "output_type": "stream",
     "text": [
      "Lines   total/split/realigned/skipped:\t7777806/0/0/0\n",
      " 66%|██████▋   | 59/89 [26:28<22:26, 44.87s/it]"
     ]
    },
    {
     "name": "stdout",
     "output_type": "stream",
     "text": [
      "Processing file:  5509954488338081625626.rename.QC.impute.subset.vcf.gz\n"
     ]
    },
    {
     "name": "stderr",
     "output_type": "stream",
     "text": [
      "Lines   total/split/realigned/skipped:\t7798427/0/0/0\n",
      " 76%|███████▋  | 68/89 [27:17<06:03, 17.29s/it]"
     ]
    },
    {
     "name": "stdout",
     "output_type": "stream",
     "text": [
      "Processing file:  5509954486775080525309.rename.QC.impute.subset.vcf.gz\n"
     ]
    },
    {
     "name": "stderr",
     "output_type": "stream",
     "text": [
      "Lines   total/split/realigned/skipped:\t7810145/0/0/0\n",
      " 80%|███████▉  | 71/89 [27:51<04:44, 15.80s/it]"
     ]
    },
    {
     "name": "stdout",
     "output_type": "stream",
     "text": [
      "Processing file:  5509954489381091425339.rename.QC.impute.subset.vcf.gz\n"
     ]
    },
    {
     "name": "stderr",
     "output_type": "stream",
     "text": [
      "Lines   total/split/realigned/skipped:\t7789799/0/0/0\n",
      " 87%|████████▋ | 77/89 [29:11<02:57, 14.78s/it]"
     ]
    },
    {
     "name": "stdout",
     "output_type": "stream",
     "text": [
      "Processing file:  5509954480026032225587.rename.QC.impute.subset.vcf.gz\n"
     ]
    },
    {
     "name": "stderr",
     "output_type": "stream",
     "text": [
      "Lines   total/split/realigned/skipped:\t7784590/0/0/0\n",
      " 90%|████████▉ | 80/89 [30:30<02:37, 17.45s/it]"
     ]
    },
    {
     "name": "stdout",
     "output_type": "stream",
     "text": [
      "Processing file:  5509954480026032225594.rename.QC.impute.subset.vcf.gz\n"
     ]
    },
    {
     "name": "stderr",
     "output_type": "stream",
     "text": [
      "Lines   total/split/realigned/skipped:\t7815196/0/0/0\n",
      " 92%|█████████▏| 82/89 [31:03<02:01, 17.30s/it]"
     ]
    },
    {
     "name": "stdout",
     "output_type": "stream",
     "text": [
      "Processing file:  5509954489381091425338.rename.QC.impute.subset.vcf.gz\n"
     ]
    },
    {
     "name": "stderr",
     "output_type": "stream",
     "text": [
      "Lines   total/split/realigned/skipped:\t7805699/0/0/0\n",
      "100%|██████████| 89/89 [33:10<00:00, 22.37s/it]\n"
     ]
    }
   ],
   "source": [
    "# Loop through all files in the case data directory with the specified imputed suffix\n",
    "for p in tqdm.tqdm(os.listdir(CASE_WD)):\n",
    "    if p.endswith(IMPUTED_SUFFIX_FILE):\n",
    "        print('Processing file: ', p)\n",
    "        path = os.path.join(CASE_WD, p)\n",
    "        new_path = path[:-6] + 'fix.vcf.gz'\n",
    "        \n",
    "        # Process VCF files with bcftools using a pipeline of commands:\n",
    "        # 1. Filter variants based on R2 threshold or if they're typed directly (not imputed)\n",
    "        # 2. Annotate variants by setting ID to '.' and removing FORMAT/DS field\n",
    "        # 3. Exclude a specific position on chromosome 19 (likely a problematic variant)\n",
    "        # 4. Normalize variants by splitting multi-allelic sites into multiple rows\n",
    "        # 5. Filter to keep only bi-allelic SNPs (exclude indels and multi-allelic sites)\n",
    "        # 6. Output as compressed VCF\n",
    "        os.system(f\"bcftools view --threads {NUM_THREADS} -i 'INFO/TYPED_ONLY=1 || INFO/R2>{R2_THRESHOLD}' {path} | \\\n",
    "                    bcftools annotate --threads {NUM_THREADS} --set-id '.' -x FORMAT/DS | \\\n",
    "                    bcftools view --threads {NUM_THREADS} -t ^chr19:40843869 | \\\n",
    "                    bcftools norm --threads {NUM_THREADS} -m+any | \\\n",
    "                    bcftools view --threads {NUM_THREADS} -m2 -M2 -v snps -Oz -o {new_path}\")\n",
    "        \n",
    "        # Create an index for the processed VCF file\n",
    "        os.system(f'bcftools index {new_path}')"
   ]
  },
  {
   "cell_type": "markdown",
   "metadata": {},
   "source": [
    "### 2. Merging:"
   ]
  },
  {
   "cell_type": "code",
   "execution_count": null,
   "metadata": {},
   "outputs": [],
   "source": [
    "def merge_multiple_batches(CASE_WD = \"./target_data/case_data/imputed/\",\n",
    "                           num_threads=NUM_THREADS):\n",
    "    \"\"\" \n",
    "        merge multiple batches from VGP data, extract case samples\n",
    "        note: need to update metadata_disease.txt and samples.disease.txt files when add new batch\n",
    "    \"\"\"\n",
    "    os.system(f\"bcftools merge --threads {num_threads} {CASE_WD}55*.fix.vcf.gz -Oz -o {CASE_WD}merge.all.vcf.gz\")\n",
    "    os.system(f\"bcftools index --threads {num_threads} {CASE_WD}merge.all.vcf.gz\")"
   ]
  },
  {
   "cell_type": "code",
   "execution_count": null,
   "metadata": {},
   "outputs": [],
   "source": [
    "merge_multiple_batches(CASE_WD = CASE_WD,\n",
    "                        num_threads=NUM_THREADS)"
   ]
  },
  {
   "cell_type": "markdown",
   "metadata": {},
   "source": [
    "### 3. Generate target data:"
   ]
  },
  {
   "cell_type": "code",
   "execution_count": null,
   "metadata": {},
   "outputs": [],
   "source": [
    "# run once to obtain target data for all diseases\n",
    "def generate_target_data(CASE_WD = \"./target_data/case_data/imputed/\",\n",
    "                        CONTROL_WD = \"./target_data/control_data/\",\n",
    "                        target_data_output_prefix = \"target.data.impute\",\n",
    "                        num_threads=4):\n",
    "\n",
    "    # get snplist from case and control data\n",
    "    print('\\nExtract intersec SNP list...')\n",
    "    os.system(f\"bcftools query -f'%CHROM\\t%POS\\t%REF\\t%ALT\\n' {CASE_WD}merge.all.vcf.gz > {CASE_WD}snplist.case.txt\")\n",
    "    os.system(f\"bcftools query -f'%CHROM\\t%POS\\t%REF\\t%ALT\\n' {CONTROL_WD}vn1k.all.vcf.gz > {CONTROL_WD}snplist.all.txt\")\n",
    "\n",
    "    # 1. Extract intersec snplist\n",
    "    snplist_case = pd.read_table(f\"{CASE_WD}snplist.case.txt\", sep='\\t', header=None).drop_duplicates(keep=False)\n",
    "    snplist_control = pd.read_table(f\"{CONTROL_WD}snplist.all.txt\", sep='\\t', header=None).drop_duplicates(keep=False)\n",
    "    snplist = pd.merge(snplist_case, snplist_control, how='inner')\n",
    "\n",
    "    # 2. Select autosomal SNPs only\n",
    "    check_autosomal = lambda x: True if (x[3:].isdigit() and int(x[3:]) in range(1, 23)) else False\n",
    "    snplist = snplist[snplist[0].apply(check_autosomal)]\n",
    "    snplist = snplist[[0, 1, 1]].drop_duplicates(keep=False)\n",
    "    print('\\nNumber of intersec SNPs: ', snplist.shape[0])\n",
    "    snplist.to_csv('./target_data/snplist.intersec.target.txt', header=None, sep='\\t', index=False)\n",
    "    print('\\nIntersec SNP list is saved to \"./target_data/snplist.intersec.target.txt\"')\n",
    "\n",
    "    # extract intersec snp between case and control data\n",
    "    print('\\nExtracting intersec SNPs...')\n",
    "    os.system(f\"bcftools view --threads {num_threads} -R ./target_data/snplist.intersec.target.txt {CONTROL_WD}vn1k.all.vcf.gz \\\n",
    "               -Oz -o {CONTROL_WD}vn1k.control.vcf.gz\")\n",
    "\n",
    "    # generate tabix file\n",
    "    print('\\nGenerate index files...')\n",
    "    os.system(f\"bcftools index --threads {num_threads} {CONTROL_WD}vn1k.control.vcf.gz\")\n",
    "\n",
    "    # 3. Merge cases and controls data, remove multi-allelic, remove indels\n",
    "    print('\\nMerging cases and controls data, remove multi-allelic, remove indels...') \n",
    "    os.system(f\"bcftools merge --threads {num_threads} \\\n",
    "                {CASE_WD}merge.all.vcf.gz {CONTROL_WD}vn1k.control.vcf.gz | \\\n",
    "                bcftools norm --threads {num_threads} -m+any | \\\n",
    "                bcftools view --threads {num_threads} -m2 -M2 -v snps \\\n",
    "                    -Oz -o ./target_data/target.data.temp.vcf.gz\")\n",
    "    os.system(f\"bcftools index ./target_data/target.data.temp.vcf.gz\")\n",
    "    \n",
    "    # annotate rsid\n",
    "    print('\\nAnnotate rsid...')\n",
    "    os.system(f\"bcftools annotate --threads {num_threads} \\\n",
    "                        -a /mnt/nas_share/ReferenceData/Reference.Broad-resourcebundle_GRCh38/dbsnp151_All_20180418.vcf.gz -c CHROM,POS,ID \\\n",
    "                        ./target_data/target.data.temp.vcf.gz | \\\n",
    "                        bcftools view --threads {num_threads} -i 'ID!=\\\".\\\"' -Oz -o ./target_data/target.data.impute.vcf.gz\")\n",
    "\n",
    "    # 4. Standard QC\n",
    "    print('\\nStandard QC:')\n",
    "    os.system(f\"plink --vcf ./target_data/target.data.impute.vcf.gz \\\n",
    "                        --double-id \\\n",
    "                        --vcf-half-call reference \\\n",
    "                        --maf 0.01 --geno 0.1 --hwe 1e-10 \\\n",
    "                        --make-bed \\\n",
    "                        --out ./target_data/{target_data_output_prefix}\")\n",
    "    print(f'\\nTarget data is saved to ./target_data/{target_data_output_prefix}.bed, .bim, .fam. Done!')"
   ]
  },
  {
   "cell_type": "code",
   "execution_count": null,
   "metadata": {},
   "outputs": [
    {
     "name": "stdout",
     "output_type": "stream",
     "text": [
      "\n",
      "Annotate rsid...\n",
      "\n",
      "Standard QC:\n",
      "PLINK v1.90b6.21 64-bit (19 Oct 2020)          www.cog-genomics.org/plink/1.9/\n",
      "(C) 2005-2020 Shaun Purcell, Christopher Chang   GNU General Public License v3\n",
      "Logging to ./target_data/target.data.impute.log.\n",
      "Options in effect:\n",
      "  --double-id\n",
      "  --geno 0.1\n",
      "  --hwe 1e-10\n",
      "  --maf 0.01\n",
      "  --make-bed\n",
      "  --out ./target_data/target.data.impute\n",
      "  --vcf ./target_data/target.data.impute.vcf.gz\n",
      "  --vcf-half-call reference\n",
      "\n",
      "64186 MB RAM detected; reserving 32093 MB for main workspace.\n",
      "--vcf: ./target_data/target.data.impute-temporary.bed +\n",
      "./target_data/target.data.impute-temporary.bim +\n",
      "./target_data/target.data.impute-temporary.fam written.\n",
      "11269773 variants loaded from .bim file.\n",
      "1608 people (0 males, 0 females, 1608 ambiguous) loaded from .fam.\n",
      "Ambiguous sex IDs written to ./target_data/target.data.impute.nosex .\n",
      "Using 1 thread (no multithreaded calculations invoked).\n",
      "Before main variant filters, 1608 founders and 0 nonfounders present.\n",
      "Calculating allele frequencies... 10111213141516171819202122232425262728293031323334353637383940414243444546474849505152535455565758596061626364656667686970717273747576777879808182838485868788899091929394959697989 done.\n",
      "Total genotyping rate is 0.846197.\n",
      "5554816 variants removed due to missing genotype data (--geno).\n",
      "--hwe: 5853 variants removed due to Hardy-Weinberg exact test.\n",
      "104038 variants removed due to minor allele threshold(s)\n",
      "(--maf/--max-maf/--mac/--max-mac).\n",
      "5605066 variants and 1608 people pass filters and QC.\n",
      "Note: No phenotypes present.\n",
      "--make-bed to ./target_data/target.data.impute.bed +\n",
      "./target_data/target.data.impute.bim + ./target_data/target.data.impute.fam ...\n",
      "101112131415161718192021222324252627282930313233343536373839404142434445464748495051525354555657585960616263646566676869707172737475767778798081828384858687888990919293949596979899done.\n",
      "\n",
      "Target data is saved to ./target_data/target.data.impute.bed, .bim, .fam. Done!\n"
     ]
    }
   ],
   "source": [
    "generate_target_data(CASE_WD = CASE_WD,\n",
    "                    CONTROL_WD = CONTROL_WD,\n",
    "                    target_data_output_prefix = \"target.data.impute\",\n",
    "                    num_threads=NUM_THREADS)"
   ]
  },
  {
   "cell_type": "markdown",
   "metadata": {},
   "source": [
    "## Check number of SNPs in target data and merge with hapmap3+"
   ]
  },
  {
   "cell_type": "code",
   "execution_count": 2,
   "metadata": {},
   "outputs": [
    {
     "name": "stdout",
     "output_type": "stream",
     "text": [
      "\n",
      "Number of SNPs in target data:  5605066\n",
      "\n",
      "Number of SNPs in HapMap3+:  1444196\n"
     ]
    }
   ],
   "source": [
    "hapmap3plus = pd.read_table('hapmap3.plus.txt')[['chr', 'rsid']]\n",
    "hapmap3plus.columns = ['CHR', 'SNPID']\n",
    "\n",
    "target_bim_file = pd.read_table('./target_data/target.data.impute.bim', header=None)\n",
    "target_bim_file.columns = ['CHR', 'SNPID', 'NO', 'BP', 'A1', 'A2']\n",
    "\n",
    "print('\\nNumber of SNPs in target data: ', target_bim_file.shape[0])\n",
    "print('\\nNumber of SNPs in HapMap3+: ', hapmap3plus.shape[0])"
   ]
  },
  {
   "cell_type": "code",
   "execution_count": 3,
   "metadata": {},
   "outputs": [
    {
     "data": {
      "text/html": [
       "<div>\n",
       "<style scoped>\n",
       "    .dataframe tbody tr th:only-of-type {\n",
       "        vertical-align: middle;\n",
       "    }\n",
       "\n",
       "    .dataframe tbody tr th {\n",
       "        vertical-align: top;\n",
       "    }\n",
       "\n",
       "    .dataframe thead th {\n",
       "        text-align: right;\n",
       "    }\n",
       "</style>\n",
       "<table border=\"1\" class=\"dataframe\">\n",
       "  <thead>\n",
       "    <tr style=\"text-align: right;\">\n",
       "      <th></th>\n",
       "      <th>CHR</th>\n",
       "      <th>SNPID</th>\n",
       "      <th>NO</th>\n",
       "      <th>BP</th>\n",
       "      <th>A1</th>\n",
       "      <th>A2</th>\n",
       "    </tr>\n",
       "  </thead>\n",
       "  <tbody>\n",
       "    <tr>\n",
       "      <th>0</th>\n",
       "      <td>1</td>\n",
       "      <td>rs2519062</td>\n",
       "      <td>0</td>\n",
       "      <td>806017</td>\n",
       "      <td>G</td>\n",
       "      <td>A</td>\n",
       "    </tr>\n",
       "    <tr>\n",
       "      <th>1</th>\n",
       "      <td>1</td>\n",
       "      <td>rs4040617</td>\n",
       "      <td>0</td>\n",
       "      <td>843942</td>\n",
       "      <td>G</td>\n",
       "      <td>A</td>\n",
       "    </tr>\n",
       "    <tr>\n",
       "      <th>2</th>\n",
       "      <td>1</td>\n",
       "      <td>rs61768199</td>\n",
       "      <td>0</td>\n",
       "      <td>846465</td>\n",
       "      <td>G</td>\n",
       "      <td>A</td>\n",
       "    </tr>\n",
       "    <tr>\n",
       "      <th>3</th>\n",
       "      <td>1</td>\n",
       "      <td>rs139867617</td>\n",
       "      <td>0</td>\n",
       "      <td>867476</td>\n",
       "      <td>T</td>\n",
       "      <td>C</td>\n",
       "    </tr>\n",
       "    <tr>\n",
       "      <th>4</th>\n",
       "      <td>1</td>\n",
       "      <td>rs7526310</td>\n",
       "      <td>0</td>\n",
       "      <td>869379</td>\n",
       "      <td>T</td>\n",
       "      <td>C</td>\n",
       "    </tr>\n",
       "    <tr>\n",
       "      <th>...</th>\n",
       "      <td>...</td>\n",
       "      <td>...</td>\n",
       "      <td>...</td>\n",
       "      <td>...</td>\n",
       "      <td>...</td>\n",
       "      <td>...</td>\n",
       "    </tr>\n",
       "    <tr>\n",
       "      <th>881280</th>\n",
       "      <td>22</td>\n",
       "      <td>rs4040021</td>\n",
       "      <td>0</td>\n",
       "      <td>50760853</td>\n",
       "      <td>C</td>\n",
       "      <td>T</td>\n",
       "    </tr>\n",
       "    <tr>\n",
       "      <th>881281</th>\n",
       "      <td>22</td>\n",
       "      <td>rs4371446</td>\n",
       "      <td>0</td>\n",
       "      <td>50764884</td>\n",
       "      <td>C</td>\n",
       "      <td>T</td>\n",
       "    </tr>\n",
       "    <tr>\n",
       "      <th>881282</th>\n",
       "      <td>22</td>\n",
       "      <td>rs3888396</td>\n",
       "      <td>0</td>\n",
       "      <td>50772964</td>\n",
       "      <td>C</td>\n",
       "      <td>T</td>\n",
       "    </tr>\n",
       "    <tr>\n",
       "      <th>881283</th>\n",
       "      <td>22</td>\n",
       "      <td>rs2238837</td>\n",
       "      <td>0</td>\n",
       "      <td>50774447</td>\n",
       "      <td>C</td>\n",
       "      <td>A</td>\n",
       "    </tr>\n",
       "    <tr>\n",
       "      <th>881284</th>\n",
       "      <td>22</td>\n",
       "      <td>rs9616974</td>\n",
       "      <td>0</td>\n",
       "      <td>50779526</td>\n",
       "      <td>A</td>\n",
       "      <td>G</td>\n",
       "    </tr>\n",
       "  </tbody>\n",
       "</table>\n",
       "<p>881285 rows × 6 columns</p>\n",
       "</div>"
      ],
      "text/plain": [
       "        CHR        SNPID  NO        BP A1 A2\n",
       "0         1    rs2519062   0    806017  G  A\n",
       "1         1    rs4040617   0    843942  G  A\n",
       "2         1   rs61768199   0    846465  G  A\n",
       "3         1  rs139867617   0    867476  T  C\n",
       "4         1    rs7526310   0    869379  T  C\n",
       "...     ...          ...  ..       ... .. ..\n",
       "881280   22    rs4040021   0  50760853  C  T\n",
       "881281   22    rs4371446   0  50764884  C  T\n",
       "881282   22    rs3888396   0  50772964  C  T\n",
       "881283   22    rs2238837   0  50774447  C  A\n",
       "881284   22    rs9616974   0  50779526  A  G\n",
       "\n",
       "[881285 rows x 6 columns]"
      ]
     },
     "execution_count": 3,
     "metadata": {},
     "output_type": "execute_result"
    }
   ],
   "source": [
    "pd.merge(hapmap3plus, target_bim_file)"
   ]
  }
 ],
 "metadata": {
  "kernelspec": {
   "display_name": "vgp",
   "language": "python",
   "name": "python3"
  },
  "language_info": {
   "codemirror_mode": {
    "name": "ipython",
    "version": 3
   },
   "file_extension": ".py",
   "mimetype": "text/x-python",
   "name": "python",
   "nbconvert_exporter": "python",
   "pygments_lexer": "ipython3",
   "version": "3.11.9"
  }
 },
 "nbformat": 4,
 "nbformat_minor": 2
}
